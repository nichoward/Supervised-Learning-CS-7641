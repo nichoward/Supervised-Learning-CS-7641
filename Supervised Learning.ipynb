{
 "cells": [
  {
   "cell_type": "markdown",
   "id": "47c4ddbf",
   "metadata": {},
   "source": [
    "# Import Packages and Classifiers"
   ]
  },
  {
   "cell_type": "code",
   "execution_count": 14,
   "id": "646a58f0",
   "metadata": {},
   "outputs": [],
   "source": [
    "#!pip install --user scikit-learn"
   ]
  },
  {
   "cell_type": "code",
   "execution_count": 15,
   "id": "8ae4ac91",
   "metadata": {},
   "outputs": [],
   "source": [
    "#!pip install --user matplotlib"
   ]
  },
  {
   "cell_type": "code",
   "execution_count": 16,
   "id": "67f4ec72",
   "metadata": {},
   "outputs": [],
   "source": [
    "#!pip install --user pandas"
   ]
  },
  {
   "cell_type": "code",
   "execution_count": 17,
   "id": "71d45fad",
   "metadata": {},
   "outputs": [],
   "source": [
    "#!pip install --user numpy"
   ]
  },
  {
   "cell_type": "code",
   "execution_count": 18,
   "id": "7d471f61",
   "metadata": {},
   "outputs": [],
   "source": [
    "#!pip install --user seaborn"
   ]
  },
  {
   "cell_type": "code",
   "execution_count": 34,
   "id": "27611270",
   "metadata": {},
   "outputs": [],
   "source": [
    "from sklearn.tree import DecisionTreeClassifier\n",
    "from sklearn.model_selection import train_test_split, learning_curve\n",
    "from sklearn.neural_network import MLPClassifier\n",
    "from sklearn.ensemble import AdaBoostClassifier\n",
    "from sklearn import svm, metrics\n",
    "from sklearn.neighbors import KNeighborsClassifier\n",
    "from sklearn.model_selection import cross_val_score\n",
    "from sklearn.model_selection import RandomizedSearchCV\n",
    "\n",
    "\n",
    "from sklearn.pipeline import make_pipeline\n",
    "from sklearn.preprocessing import StandardScaler\n",
    "from sklearn.svm import SVC\n",
    "\n",
    "import matplotlib.pyplot as plt\n",
    "from sklearn import preprocessing\n",
    "import seaborn as sns\n",
    "from sklearn.metrics import accuracy_score\n",
    "import time\n",
    "\n",
    "from sklearn.model_selection import learning_curve\n",
    "import pandas as pd \n",
    "import numpy as np  \n"
   ]
  },
  {
   "cell_type": "markdown",
   "id": "bb491f49",
   "metadata": {},
   "source": [
    "https://scikit-learn.org/stable/modules/cross_validation.html"
   ]
  },
  {
   "cell_type": "markdown",
   "id": "d00ce0c4",
   "metadata": {},
   "source": [
    "# Import Data "
   ]
  },
  {
   "cell_type": "code",
   "execution_count": 35,
   "id": "012272ce",
   "metadata": {},
   "outputs": [],
   "source": [
    "hr_data = pd.read_csv(\"hr_data.csv\")\n",
    "bank_data = pd.read_csv(\"bank-marketing.csv\")"
   ]
  },
  {
   "cell_type": "markdown",
   "id": "d396c8e2",
   "metadata": {},
   "source": [
    "# First Dataset \n",
    "https://www.kaggle.com/dhirajnirne/bank-marketing"
   ]
  },
  {
   "cell_type": "markdown",
   "id": "d5dfb91d",
   "metadata": {},
   "source": [
    "## Prep Data for Modeling "
   ]
  },
  {
   "cell_type": "code",
   "execution_count": 36,
   "id": "02310500",
   "metadata": {},
   "outputs": [
    {
     "data": {
      "text/plain": [
       "Index(['age', 'age group', 'eligible', 'job', 'salary', 'marital', 'education',\n",
       "       'marital-education', 'targeted', 'default', 'balance', 'housing',\n",
       "       'loan', 'contact', 'day', 'month', 'duration', 'campaign', 'pdays',\n",
       "       'previous', 'poutcome', 'y', 'response'],\n",
       "      dtype='object')"
      ]
     },
     "execution_count": 36,
     "metadata": {},
     "output_type": "execute_result"
    }
   ],
   "source": [
    "bank_data.columns"
   ]
  },
  {
   "cell_type": "code",
   "execution_count": 37,
   "id": "75c08738",
   "metadata": {},
   "outputs": [],
   "source": [
    "categorical_cols = ['age group', 'eligible', 'job', 'marital', 'education',\n",
    "       'marital-education', 'targeted', 'default', 'balance', 'housing',\n",
    "       'loan', 'contact', 'day', 'month', 'duration', 'campaign', 'poutcome']\n",
    "\n",
    "for i in categorical_cols: \n",
    "    le = preprocessing.LabelEncoder()\n",
    "    le.fit(bank_data[i].unique())\n",
    "    bank_data[i] = le.transform(bank_data[i])"
   ]
  },
  {
   "cell_type": "code",
   "execution_count": 38,
   "id": "e63838b3",
   "metadata": {},
   "outputs": [],
   "source": [
    "target = 'response'\n",
    "cols = ['age', 'age group', 'eligible', 'job', 'salary', 'marital', 'education',\n",
    "       'marital-education', 'targeted', 'default', 'balance', 'housing',\n",
    "       'loan', 'contact', 'day', 'month', 'duration', 'campaign', 'pdays',\n",
    "       'previous', 'poutcome']\n",
    "\n",
    "#splitn into training and testing data sets\n",
    "train, test = train_test_split(bank_data, test_size=0.2)"
   ]
  },
  {
   "cell_type": "code",
   "execution_count": 39,
   "id": "01c72698",
   "metadata": {},
   "outputs": [],
   "source": [
    "train_sizes = np.arange(1, len(train), 1500).tolist()#.append(len(train))\n",
    "train_sizes.append(len(train)-1)\n"
   ]
  },
  {
   "cell_type": "markdown",
   "id": "3ce54f1f",
   "metadata": {},
   "source": [
    "## Decision Tree with Pruning \n",
    "https://scikit-learn.org/stable/auto_examples/tree/plot_cost_complexity_pruning.html\n",
    "\n",
    "https://www.analyticsvidhya.com/blog/2020/10/cost-complexity-pruning-decision-trees/"
   ]
  },
  {
   "cell_type": "code",
   "execution_count": 40,
   "id": "026e32b4",
   "metadata": {},
   "outputs": [],
   "source": [
    "decision_tree = DecisionTreeClassifier(random_state=0)\n",
    "path = decision_tree.cost_complexity_pruning_path(train[cols], train[target])\n",
    "alphas, impurities = path.ccp_alphas, path.impurities\n"
   ]
  },
  {
   "cell_type": "code",
   "execution_count": 41,
   "id": "05af4315",
   "metadata": {},
   "outputs": [],
   "source": [
    "from sklearn.metrics import accuracy_score\n",
    "accuracy_train, accuracy_test = [], []\n",
    "max_score = 0 \n",
    "max_score_alpha = 0\n",
    "\n",
    "for i in alphas:\n",
    "    \n",
    "    tree = DecisionTreeClassifier(ccp_alpha = i)\n",
    "    \n",
    "    tree.fit(train[cols], train[target])\n",
    "    y_train_pred = tree.predict(train[cols])\n",
    "    y_test_pred = tree.predict(test[cols])\n",
    "    \n",
    "    accuracy_train.append(accuracy_score(train[target], y_train_pred))\n",
    "    accuracy_test.append(accuracy_score(test[target], y_test_pred))\n",
    "    \n",
    "    #use the alpha that has the max score on the test set\n",
    "    max_score_alpha = i if max_score < accuracy_score(test[target], y_test_pred) else max_score_alpha  \n",
    "    max_score = max_score if max_score < accuracy_score(test[target], y_test_pred) else max_score  \n"
   ]
  },
  {
   "cell_type": "code",
   "execution_count": 42,
   "id": "62f2f59a",
   "metadata": {},
   "outputs": [
    {
     "data": {
      "text/plain": [
       "<AxesSubplot:>"
      ]
     },
     "execution_count": 42,
     "metadata": {},
     "output_type": "execute_result"
    },
    {
     "data": {
      "image/png": "[encoded data removed]",
      "text/plain": [
       "<Figure size 1008x504 with 1 Axes>"
      ]
     },
     "metadata": {},
     "output_type": "display_data"
    }
   ],
   "source": [
    "sns.set()\n",
    "plt.figure(figsize=(14,7))\n",
    "sns.lineplot(y = accuracy_train, x = alphas, label = \"Train Accuracy\")\n",
    "sns.lineplot(y = accuracy_test, x = alphas, label = \"Test Accuracy\")"
   ]
  },
  {
   "cell_type": "code",
   "execution_count": 43,
   "id": "b16b3d74",
   "metadata": {},
   "outputs": [],
   "source": [
    "start_time = time.time()\n",
    "final_tree = DecisionTreeClassifier(random_state=0, ccp_alpha=max_score_alpha)\n",
    "final_tree.fit(train[cols], train[target])\n",
    "final_tree_runtime = time.time() - start_time\n",
    "final_tree_training_error = 1 - accuracy_score(train[target], final_tree.predict(train[cols]))\n",
    "final_tree_error = 1 - accuracy_score(test[target], final_tree.predict(test[cols]))"
   ]
  },
  {
   "cell_type": "code",
   "execution_count": 44,
   "id": "c4c98191",
   "metadata": {},
   "outputs": [],
   "source": [
    "final_tree_row = pd.DataFrame(['Decision Tree', final_tree_training_error, final_tree_error, final_tree_runtime] ).T"
   ]
  },
  {
   "cell_type": "code",
   "execution_count": 45,
   "id": "4e8b4bc2",
   "metadata": {},
   "outputs": [
    {
     "data": {
      "image/png": "[encoded data removed]",
      "text/plain": [
       "<Figure size 432x288 with 1 Axes>"
      ]
     },
     "metadata": {},
     "output_type": "display_data"
    }
   ],
   "source": [
    "test_accuracy = []\n",
    "train_accuracy = []\n",
    "for i in train_sizes:\n",
    "    train_data_subset = train.head(i)\n",
    "    classifier  = DecisionTreeClassifier(random_state=0, ccp_alpha=max_score_alpha)\n",
    "    classifier.fit(train_data_subset[cols], train_data_subset[target])\n",
    "    #print(accuracy_score(train_data_subset[target], classifier.predict(train_data_subset[cols])))\n",
    "    train_accuracy.append(accuracy_score(train_data_subset[target], classifier.predict(train_data_subset[cols])))\n",
    "    test_accuracy.append(accuracy_score(test[target], classifier.predict(test[cols])))\n",
    "\n",
    "    \n",
    "plt.plot(train_sizes, train_accuracy, '--', color=\"b\",  label=\"Training score\")\n",
    "plt.plot(train_sizes, test_accuracy, color=\"g\", label=\"Test Accuracy\")\n",
    "\n",
    "plt.title(\"Learning Curve for Decision Tree Classifier\")\n",
    "plt.xlabel(\"Training Set Size\")\n",
    "plt.ylabel(\"Accuracy Score\") \n",
    "plt.legend(loc=\"best\")\n",
    "plt.tight_layout()\n",
    "plt.show()"
   ]
  },
  {
   "cell_type": "markdown",
   "id": "be2ff05a",
   "metadata": {},
   "source": [
    "## Neural Network\n",
    "https://scikit-learn.org/stable/modules/neural_networks_supervised.html"
   ]
  },
  {
   "cell_type": "code",
   "execution_count": 46,
   "id": "4be2044d",
   "metadata": {},
   "outputs": [
    {
     "name": "stderr",
     "output_type": "stream",
     "text": [
      "/Users/nicole/Library/Python/3.9/lib/python/site-packages/sklearn/neural_network/_multilayer_perceptron.py:500: ConvergenceWarning: lbfgs failed to converge (status=2):\n",
      "ABNORMAL_TERMINATION_IN_LNSRCH.\n",
      "\n",
      "Increase the number of iterations (max_iter) or scale the data as shown in:\n",
      "    https://scikit-learn.org/stable/modules/preprocessing.html\n",
      "  self.n_iter_ = _check_optimize_result(\"lbfgs\", opt_res, self.max_iter)\n"
     ]
    }
   ],
   "source": [
    "start_time = time.time()\n",
    "nn = MLPClassifier(solver='lbfgs', alpha=1e-5,\n",
    "                    hidden_layer_sizes=(5, 2), random_state=1)\n",
    "\n",
    "nn.fit(train[cols], train[target])\n",
    "nn_runtime = time.time() - start_time \n",
    "\n",
    "nn_training_error = 1 - accuracy_score(train[target], nn.predict(train[cols]))\n",
    "nn_error = 1 - accuracy_score(test[target], nn.predict(test[cols]))\n",
    "\n",
    "nn_row = pd.DataFrame(['Neural Network', nn_training_error, nn_error, nn_runtime] ).T"
   ]
  },
  {
   "cell_type": "code",
   "execution_count": 47,
   "id": "e642b252",
   "metadata": {
    "scrolled": true
   },
   "outputs": [
    {
     "name": "stderr",
     "output_type": "stream",
     "text": [
      "/Users/nicole/Library/Python/3.9/lib/python/site-packages/sklearn/neural_network/_multilayer_perceptron.py:500: ConvergenceWarning: lbfgs failed to converge (status=2):\n",
      "ABNORMAL_TERMINATION_IN_LNSRCH.\n",
      "\n",
      "Increase the number of iterations (max_iter) or scale the data as shown in:\n",
      "    https://scikit-learn.org/stable/modules/preprocessing.html\n",
      "  self.n_iter_ = _check_optimize_result(\"lbfgs\", opt_res, self.max_iter)\n",
      "/Users/nicole/Library/Python/3.9/lib/python/site-packages/sklearn/neural_network/_multilayer_perceptron.py:500: ConvergenceWarning: lbfgs failed to converge (status=2):\n",
      "ABNORMAL_TERMINATION_IN_LNSRCH.\n",
      "\n",
      "Increase the number of iterations (max_iter) or scale the data as shown in:\n",
      "    https://scikit-learn.org/stable/modules/preprocessing.html\n",
      "  self.n_iter_ = _check_optimize_result(\"lbfgs\", opt_res, self.max_iter)\n",
      "/Users/nicole/Library/Python/3.9/lib/python/site-packages/sklearn/neural_network/_multilayer_perceptron.py:500: ConvergenceWarning: lbfgs failed to converge (status=2):\n",
      "ABNORMAL_TERMINATION_IN_LNSRCH.\n",
      "\n",
      "Increase the number of iterations (max_iter) or scale the data as shown in:\n",
      "    https://scikit-learn.org/stable/modules/preprocessing.html\n",
      "  self.n_iter_ = _check_optimize_result(\"lbfgs\", opt_res, self.max_iter)\n",
      "/Users/nicole/Library/Python/3.9/lib/python/site-packages/sklearn/neural_network/_multilayer_perceptron.py:500: ConvergenceWarning: lbfgs failed to converge (status=2):\n",
      "ABNORMAL_TERMINATION_IN_LNSRCH.\n",
      "\n",
      "Increase the number of iterations (max_iter) or scale the data as shown in:\n",
      "    https://scikit-learn.org/stable/modules/preprocessing.html\n",
      "  self.n_iter_ = _check_optimize_result(\"lbfgs\", opt_res, self.max_iter)\n",
      "/Users/nicole/Library/Python/3.9/lib/python/site-packages/sklearn/neural_network/_multilayer_perceptron.py:500: ConvergenceWarning: lbfgs failed to converge (status=2):\n",
      "ABNORMAL_TERMINATION_IN_LNSRCH.\n",
      "\n",
      "Increase the number of iterations (max_iter) or scale the data as shown in:\n",
      "    https://scikit-learn.org/stable/modules/preprocessing.html\n",
      "  self.n_iter_ = _check_optimize_result(\"lbfgs\", opt_res, self.max_iter)\n",
      "/Users/nicole/Library/Python/3.9/lib/python/site-packages/sklearn/neural_network/_multilayer_perceptron.py:500: ConvergenceWarning: lbfgs failed to converge (status=2):\n",
      "ABNORMAL_TERMINATION_IN_LNSRCH.\n",
      "\n",
      "Increase the number of iterations (max_iter) or scale the data as shown in:\n",
      "    https://scikit-learn.org/stable/modules/preprocessing.html\n",
      "  self.n_iter_ = _check_optimize_result(\"lbfgs\", opt_res, self.max_iter)\n",
      "/Users/nicole/Library/Python/3.9/lib/python/site-packages/sklearn/neural_network/_multilayer_perceptron.py:500: ConvergenceWarning: lbfgs failed to converge (status=2):\n",
      "ABNORMAL_TERMINATION_IN_LNSRCH.\n",
      "\n",
      "Increase the number of iterations (max_iter) or scale the data as shown in:\n",
      "    https://scikit-learn.org/stable/modules/preprocessing.html\n",
      "  self.n_iter_ = _check_optimize_result(\"lbfgs\", opt_res, self.max_iter)\n",
      "/Users/nicole/Library/Python/3.9/lib/python/site-packages/sklearn/neural_network/_multilayer_perceptron.py:500: ConvergenceWarning: lbfgs failed to converge (status=2):\n",
      "ABNORMAL_TERMINATION_IN_LNSRCH.\n",
      "\n",
      "Increase the number of iterations (max_iter) or scale the data as shown in:\n",
      "    https://scikit-learn.org/stable/modules/preprocessing.html\n",
      "  self.n_iter_ = _check_optimize_result(\"lbfgs\", opt_res, self.max_iter)\n",
      "/Users/nicole/Library/Python/3.9/lib/python/site-packages/sklearn/neural_network/_multilayer_perceptron.py:500: ConvergenceWarning: lbfgs failed to converge (status=2):\n",
      "ABNORMAL_TERMINATION_IN_LNSRCH.\n",
      "\n",
      "Increase the number of iterations (max_iter) or scale the data as shown in:\n",
      "    https://scikit-learn.org/stable/modules/preprocessing.html\n",
      "  self.n_iter_ = _check_optimize_result(\"lbfgs\", opt_res, self.max_iter)\n",
      "/Users/nicole/Library/Python/3.9/lib/python/site-packages/sklearn/neural_network/_multilayer_perceptron.py:500: ConvergenceWarning: lbfgs failed to converge (status=2):\n",
      "ABNORMAL_TERMINATION_IN_LNSRCH.\n",
      "\n",
      "Increase the number of iterations (max_iter) or scale the data as shown in:\n",
      "    https://scikit-learn.org/stable/modules/preprocessing.html\n",
      "  self.n_iter_ = _check_optimize_result(\"lbfgs\", opt_res, self.max_iter)\n",
      "/Users/nicole/Library/Python/3.9/lib/python/site-packages/sklearn/neural_network/_multilayer_perceptron.py:500: ConvergenceWarning: lbfgs failed to converge (status=2):\n",
      "ABNORMAL_TERMINATION_IN_LNSRCH.\n",
      "\n",
      "Increase the number of iterations (max_iter) or scale the data as shown in:\n",
      "    https://scikit-learn.org/stable/modules/preprocessing.html\n",
      "  self.n_iter_ = _check_optimize_result(\"lbfgs\", opt_res, self.max_iter)\n",
      "/Users/nicole/Library/Python/3.9/lib/python/site-packages/sklearn/neural_network/_multilayer_perceptron.py:500: ConvergenceWarning: lbfgs failed to converge (status=2):\n",
      "ABNORMAL_TERMINATION_IN_LNSRCH.\n",
      "\n",
      "Increase the number of iterations (max_iter) or scale the data as shown in:\n",
      "    https://scikit-learn.org/stable/modules/preprocessing.html\n",
      "  self.n_iter_ = _check_optimize_result(\"lbfgs\", opt_res, self.max_iter)\n",
      "/Users/nicole/Library/Python/3.9/lib/python/site-packages/sklearn/neural_network/_multilayer_perceptron.py:500: ConvergenceWarning: lbfgs failed to converge (status=2):\n",
      "ABNORMAL_TERMINATION_IN_LNSRCH.\n",
      "\n",
      "Increase the number of iterations (max_iter) or scale the data as shown in:\n",
      "    https://scikit-learn.org/stable/modules/preprocessing.html\n",
      "  self.n_iter_ = _check_optimize_result(\"lbfgs\", opt_res, self.max_iter)\n",
      "/Users/nicole/Library/Python/3.9/lib/python/site-packages/sklearn/neural_network/_multilayer_perceptron.py:500: ConvergenceWarning: lbfgs failed to converge (status=2):\n",
      "ABNORMAL_TERMINATION_IN_LNSRCH.\n",
      "\n",
      "Increase the number of iterations (max_iter) or scale the data as shown in:\n",
      "    https://scikit-learn.org/stable/modules/preprocessing.html\n",
      "  self.n_iter_ = _check_optimize_result(\"lbfgs\", opt_res, self.max_iter)\n",
      "/Users/nicole/Library/Python/3.9/lib/python/site-packages/sklearn/neural_network/_multilayer_perceptron.py:500: ConvergenceWarning: lbfgs failed to converge (status=2):\n",
      "ABNORMAL_TERMINATION_IN_LNSRCH.\n",
      "\n",
      "Increase the number of iterations (max_iter) or scale the data as shown in:\n",
      "    https://scikit-learn.org/stable/modules/preprocessing.html\n",
      "  self.n_iter_ = _check_optimize_result(\"lbfgs\", opt_res, self.max_iter)\n",
      "/Users/nicole/Library/Python/3.9/lib/python/site-packages/sklearn/neural_network/_multilayer_perceptron.py:500: ConvergenceWarning: lbfgs failed to converge (status=2):\n",
      "ABNORMAL_TERMINATION_IN_LNSRCH.\n",
      "\n",
      "Increase the number of iterations (max_iter) or scale the data as shown in:\n",
      "    https://scikit-learn.org/stable/modules/preprocessing.html\n",
      "  self.n_iter_ = _check_optimize_result(\"lbfgs\", opt_res, self.max_iter)\n",
      "/Users/nicole/Library/Python/3.9/lib/python/site-packages/sklearn/neural_network/_multilayer_perceptron.py:500: ConvergenceWarning: lbfgs failed to converge (status=2):\n",
      "ABNORMAL_TERMINATION_IN_LNSRCH.\n",
      "\n",
      "Increase the number of iterations (max_iter) or scale the data as shown in:\n",
      "    https://scikit-learn.org/stable/modules/preprocessing.html\n",
      "  self.n_iter_ = _check_optimize_result(\"lbfgs\", opt_res, self.max_iter)\n",
      "/Users/nicole/Library/Python/3.9/lib/python/site-packages/sklearn/neural_network/_multilayer_perceptron.py:500: ConvergenceWarning: lbfgs failed to converge (status=2):\n",
      "ABNORMAL_TERMINATION_IN_LNSRCH.\n",
      "\n",
      "Increase the number of iterations (max_iter) or scale the data as shown in:\n",
      "    https://scikit-learn.org/stable/modules/preprocessing.html\n",
      "  self.n_iter_ = _check_optimize_result(\"lbfgs\", opt_res, self.max_iter)\n",
      "/Users/nicole/Library/Python/3.9/lib/python/site-packages/sklearn/neural_network/_multilayer_perceptron.py:500: ConvergenceWarning: lbfgs failed to converge (status=2):\n",
      "ABNORMAL_TERMINATION_IN_LNSRCH.\n",
      "\n",
      "Increase the number of iterations (max_iter) or scale the data as shown in:\n",
      "    https://scikit-learn.org/stable/modules/preprocessing.html\n",
      "  self.n_iter_ = _check_optimize_result(\"lbfgs\", opt_res, self.max_iter)\n",
      "/Users/nicole/Library/Python/3.9/lib/python/site-packages/sklearn/neural_network/_multilayer_perceptron.py:500: ConvergenceWarning: lbfgs failed to converge (status=2):\n",
      "ABNORMAL_TERMINATION_IN_LNSRCH.\n",
      "\n",
      "Increase the number of iterations (max_iter) or scale the data as shown in:\n",
      "    https://scikit-learn.org/stable/modules/preprocessing.html\n",
      "  self.n_iter_ = _check_optimize_result(\"lbfgs\", opt_res, self.max_iter)\n"
     ]
    },
    {
     "name": "stderr",
     "output_type": "stream",
     "text": [
      "/Users/nicole/Library/Python/3.9/lib/python/site-packages/sklearn/neural_network/_multilayer_perceptron.py:500: ConvergenceWarning: lbfgs failed to converge (status=2):\n",
      "ABNORMAL_TERMINATION_IN_LNSRCH.\n",
      "\n",
      "Increase the number of iterations (max_iter) or scale the data as shown in:\n",
      "    https://scikit-learn.org/stable/modules/preprocessing.html\n",
      "  self.n_iter_ = _check_optimize_result(\"lbfgs\", opt_res, self.max_iter)\n",
      "/Users/nicole/Library/Python/3.9/lib/python/site-packages/sklearn/neural_network/_multilayer_perceptron.py:500: ConvergenceWarning: lbfgs failed to converge (status=2):\n",
      "ABNORMAL_TERMINATION_IN_LNSRCH.\n",
      "\n",
      "Increase the number of iterations (max_iter) or scale the data as shown in:\n",
      "    https://scikit-learn.org/stable/modules/preprocessing.html\n",
      "  self.n_iter_ = _check_optimize_result(\"lbfgs\", opt_res, self.max_iter)\n",
      "/Users/nicole/Library/Python/3.9/lib/python/site-packages/sklearn/neural_network/_multilayer_perceptron.py:500: ConvergenceWarning: lbfgs failed to converge (status=2):\n",
      "ABNORMAL_TERMINATION_IN_LNSRCH.\n",
      "\n",
      "Increase the number of iterations (max_iter) or scale the data as shown in:\n",
      "    https://scikit-learn.org/stable/modules/preprocessing.html\n",
      "  self.n_iter_ = _check_optimize_result(\"lbfgs\", opt_res, self.max_iter)\n",
      "/Users/nicole/Library/Python/3.9/lib/python/site-packages/sklearn/neural_network/_multilayer_perceptron.py:500: ConvergenceWarning: lbfgs failed to converge (status=2):\n",
      "ABNORMAL_TERMINATION_IN_LNSRCH.\n",
      "\n",
      "Increase the number of iterations (max_iter) or scale the data as shown in:\n",
      "    https://scikit-learn.org/stable/modules/preprocessing.html\n",
      "  self.n_iter_ = _check_optimize_result(\"lbfgs\", opt_res, self.max_iter)\n",
      "/Users/nicole/Library/Python/3.9/lib/python/site-packages/sklearn/neural_network/_multilayer_perceptron.py:500: ConvergenceWarning: lbfgs failed to converge (status=2):\n",
      "ABNORMAL_TERMINATION_IN_LNSRCH.\n",
      "\n",
      "Increase the number of iterations (max_iter) or scale the data as shown in:\n",
      "    https://scikit-learn.org/stable/modules/preprocessing.html\n",
      "  self.n_iter_ = _check_optimize_result(\"lbfgs\", opt_res, self.max_iter)\n"
     ]
    },
    {
     "data": {
      "image/png": "[encoded data removed]",
      "text/plain": [
       "<Figure size 432x288 with 1 Axes>"
      ]
     },
     "metadata": {},
     "output_type": "display_data"
    }
   ],
   "source": [
    "test_accuracy = []\n",
    "train_accuracy = []\n",
    "for i in train_sizes:\n",
    "    train_data_subset = train.head(i)\n",
    "    classifier  = MLPClassifier(solver='lbfgs', alpha=1e-5,\n",
    "                    hidden_layer_sizes=(5, 2), random_state=1)\n",
    "    classifier.fit(train_data_subset[cols], train_data_subset[target])\n",
    "    #print(accuracy_score(train_data_subset[target], classifier.predict(train_data_subset[cols])))\n",
    "    train_accuracy.append(accuracy_score(train_data_subset[target], classifier.predict(train_data_subset[cols])))\n",
    "    test_accuracy.append(accuracy_score(test[target], classifier.predict(test[cols])))\n",
    "\n",
    "    \n",
    "plt.plot(train_sizes, train_accuracy, '--', color=\"b\",  label=\"Training score\")\n",
    "plt.plot(train_sizes, test_accuracy, color=\"g\", label=\"Test Accuracy\")\n",
    "\n",
    "plt.title(\"Learning Curve for Neural Network Classifier\")\n",
    "plt.xlabel(\"Training Set Size\")\n",
    "plt.ylabel(\"Accuracy Score\") \n",
    "plt.legend(loc=\"best\")\n",
    "plt.tight_layout()\n",
    "plt.show()"
   ]
  },
  {
   "cell_type": "markdown",
   "id": "b9109f17",
   "metadata": {},
   "source": [
    "## Boosting \n",
    "https://scikit-learn.org/stable/modules/generated/sklearn.ensemble.AdaBoostClassifier.html#:~:text=An%20AdaBoost%20%5B1%5D%20classifier%20is,focus%20more%20on%20difficult%20cases."
   ]
  },
  {
   "cell_type": "code",
   "execution_count": 48,
   "id": "6bafc14a",
   "metadata": {},
   "outputs": [],
   "source": [
    "start_time = time.time()\n",
    "\n",
    "ada = AdaBoostClassifier(n_estimators=100, random_state=0)\n",
    "ada.fit(train[cols], train[target])\n",
    "ada_runtime = time.time() - start_time \n",
    "\n",
    "ada_training_error = 1 - accuracy_score(train[target], ada.predict(train[cols]))\n",
    "ada_error = 1 - accuracy_score(test[target], ada.predict(test[cols]))\n",
    "\n",
    "ada_row = pd.DataFrame(['Ada Boost', ada_training_error, ada_error, ada_runtime] ).T"
   ]
  },
  {
   "cell_type": "code",
   "execution_count": 49,
   "id": "79a37f1d",
   "metadata": {},
   "outputs": [
    {
     "data": {
      "image/png": "[encoded data removed]",
      "text/plain": [
       "<Figure size 432x288 with 1 Axes>"
      ]
     },
     "metadata": {},
     "output_type": "display_data"
    }
   ],
   "source": [
    "test_accuracy = []\n",
    "train_accuracy = []\n",
    "for i in train_sizes:\n",
    "    train_data_subset = train.head(i)\n",
    "    classifier  = AdaBoostClassifier(n_estimators=100, random_state=0)\n",
    "    classifier.fit(train_data_subset[cols], train_data_subset[target])\n",
    "    #print(accuracy_score(train_data_subset[target], classifier.predict(train_data_subset[cols])))\n",
    "    train_accuracy.append(accuracy_score(train_data_subset[target], classifier.predict(train_data_subset[cols])))\n",
    "    test_accuracy.append(accuracy_score(test[target], classifier.predict(test[cols])))\n",
    "\n",
    "    \n",
    "plt.plot(train_sizes, train_accuracy, '--', color=\"b\",  label=\"Training score\")\n",
    "plt.plot(train_sizes, test_accuracy, color=\"g\", label=\"Test Accuracy\")\n",
    "\n",
    "plt.title(\"Learning Curve for Ada Boost Classifier\")\n",
    "plt.xlabel(\"Training Set Size\")\n",
    "plt.ylabel(\"Accuracy Score\") \n",
    "plt.legend(loc=\"best\")\n",
    "plt.tight_layout()\n",
    "plt.show()"
   ]
  },
  {
   "cell_type": "markdown",
   "id": "958785d3",
   "metadata": {},
   "source": [
    "## Support Vector Machines \n",
    "https://scikit-learn.org/stable/modules/generated/sklearn.svm.SVC.html\n",
    "\n",
    "https://scikit-learn.org/stable/auto_examples/classification/plot_digits_classification.html#sphx-glr-auto-examples-classification-plot-digits-classification-py"
   ]
  },
  {
   "cell_type": "code",
   "execution_count": 50,
   "id": "db2e2aaf",
   "metadata": {},
   "outputs": [],
   "source": [
    "start_time = time.time()\n",
    "\n",
    "clf = make_pipeline(StandardScaler(), SVC(gamma='auto'))\n",
    "clf.fit(train[cols], train[target])\n",
    "clf_runtime = time.time() - start_time \n",
    "\n",
    "clf_training_error = 1 - accuracy_score(train[target], clf.predict(train[cols]))\n",
    "clf_error = 1 - accuracy_score(test[target], clf.predict(test[cols]))\n",
    "\n",
    "clf_row = pd.DataFrame(['Support Vector Machine', clf_training_error, clf_error, clf_runtime] ).T"
   ]
  },
  {
   "cell_type": "code",
   "execution_count": 51,
   "id": "7c0de437",
   "metadata": {},
   "outputs": [
    {
     "data": {
      "text/html": [
       "<div>\n",
       "<style scoped>\n",
       "    .dataframe tbody tr th:only-of-type {\n",
       "        vertical-align: middle;\n",
       "    }\n",
       "\n",
       "    .dataframe tbody tr th {\n",
       "        vertical-align: top;\n",
       "    }\n",
       "\n",
       "    .dataframe thead th {\n",
       "        text-align: right;\n",
       "    }\n",
       "</style>\n",
       "<table border=\"1\" class=\"dataframe\">\n",
       "  <thead>\n",
       "    <tr style=\"text-align: right;\">\n",
       "      <th></th>\n",
       "      <th>0</th>\n",
       "      <th>1</th>\n",
       "      <th>2</th>\n",
       "      <th>3</th>\n",
       "    </tr>\n",
       "  </thead>\n",
       "  <tbody>\n",
       "    <tr>\n",
       "      <th>0</th>\n",
       "      <td>Support Vector Machine</td>\n",
       "      <td>0.092181</td>\n",
       "      <td>0.099082</td>\n",
       "      <td>16.218115</td>\n",
       "    </tr>\n",
       "  </tbody>\n",
       "</table>\n",
       "</div>"
      ],
      "text/plain": [
       "                        0         1         2          3\n",
       "0  Support Vector Machine  0.092181  0.099082  16.218115"
      ]
     },
     "execution_count": 51,
     "metadata": {},
     "output_type": "execute_result"
    }
   ],
   "source": [
    "clf_row \n",
    "#Cross validation doesn't make sense hear "
   ]
  },
  {
   "cell_type": "code",
   "execution_count": 52,
   "id": "29674ac9",
   "metadata": {},
   "outputs": [
    {
     "data": {
      "image/png": "[encoded data removed]",
      "text/plain": [
       "<Figure size 432x288 with 1 Axes>"
      ]
     },
     "metadata": {},
     "output_type": "display_data"
    }
   ],
   "source": [
    "test_accuracy = []\n",
    "train_accuracy = []\n",
    "for i in train_sizes:\n",
    "    if i > 1: \n",
    "        train_data_subset = train.head(i)\n",
    "        classifier  = make_pipeline(StandardScaler(), SVC(gamma='auto'))\n",
    "        classifier.fit(train_data_subset[cols], train_data_subset[target])\n",
    "        #print(accuracy_score(train_data_subset[target], classifier.predict(train_data_subset[cols])))\n",
    "        train_accuracy.append(accuracy_score(train_data_subset[target], classifier.predict(train_data_subset[cols])))\n",
    "        test_accuracy.append(accuracy_score(test[target], classifier.predict(test[cols])))\n",
    "\n",
    "    \n",
    "plt.plot(train_sizes[1:], train_accuracy, '--', color=\"b\",  label=\"Training score\")\n",
    "plt.plot(train_sizes[1:], test_accuracy, color=\"g\", label=\"Test Accuracy\")\n",
    "\n",
    "plt.title(\"Learning Curve for Support Vector Machine Classifier\")\n",
    "plt.xlabel(\"Training Set Size\")\n",
    "plt.ylabel(\"Accuracy Score\") \n",
    "plt.legend(loc=\"best\")\n",
    "plt.tight_layout()\n",
    "plt.show()"
   ]
  },
  {
   "cell_type": "markdown",
   "id": "2f5e7dc9",
   "metadata": {},
   "source": [
    "## K Nearest Neighbors\n",
    "https://scikit-learn.org/stable/modules/generated/sklearn.neighbors.KNeighborsClassifier.html\n"
   ]
  },
  {
   "cell_type": "code",
   "execution_count": 60,
   "id": "c0b4b8e8",
   "metadata": {},
   "outputs": [],
   "source": [
    "from sklearn.model_selection import GridSearchCV\n",
    "#https://www.ritchieng.com/machine-learning-efficiently-search-tuning-param/\n",
    "# define the parameter values that should be searched\n",
    "# for python 2, k_range = range(1, 31)\n",
    "k_range = list(range(1, 10))\n",
    "\n",
    "# create a parameter grid: map the parameter names to the values that should be searched\n",
    "# simply a python dictionary\n",
    "# key: parameter name\n",
    "# value: list of values that should be searched for that parameter\n",
    "# single key-value pair for param_grid\n",
    "param_grid = [{'n_neighbors': k_range,\n",
    "         'weights': ['uniform', 'distance']}]\n",
    "\n",
    "knn = KNeighborsClassifier()\n",
    "\n",
    "grid = GridSearchCV(knn, param_grid, cv=10, scoring='accuracy')\n",
    "grid.fit(train[cols], train[target])\n",
    "\n",
    "# plot the results\n",
    "# this is identical to the one we generated above\n",
    "\n",
    "grid_mean_scores = grid.cv_results_.get('mean_test_score')\n",
    "\n",
    "plt.plot(k_range, grid_mean_scores)\n",
    "plt.xlabel('Value of K for KNN')\n",
    "plt.ylabel('Cross-Validated Accuracy')"
   ]
  },
  {
   "cell_type": "code",
   "execution_count": null,
   "id": "a5b6329c",
   "metadata": {},
   "outputs": [],
   "source": [
    "start_time = time.time()\n",
    "\n",
    "neigh = KNeighborsClassifier(n_neighbors=grid.best_params_.get('n_neighbors'))\n",
    "neigh.fit(train[cols], train[target])\n",
    "neigh_runtime = time.time() - start_time \n",
    "\n",
    "neigh_training_error = 1 - accuracy_score(train[target], neigh.predict(train[cols]))\n",
    "neigh_error = 1 - accuracy_score(test[target], neigh.predict(test[cols]))\n",
    "\n",
    "neigh_row = pd.DataFrame(['K Nearest Neighbor', neigh_training_error, neigh_error, neigh_runtime]).T "
   ]
  },
  {
   "cell_type": "code",
   "execution_count": null,
   "id": "6d41d117",
   "metadata": {},
   "outputs": [],
   "source": [
    "test_accuracy = []\n",
    "train_accuracy = []\n",
    "for i in train_sizes:\n",
    "    if i > 1:\n",
    "        train_data_subset = train.head(i)\n",
    "        classifier  = KNeighborsClassifier(n_neighbors=grid.best_params_.get('n_neighbors'))\n",
    "        classifier.fit(train_data_subset[cols], train_data_subset[target])\n",
    "        #print(accuracy_score(train_data_subset[target], classifier.predict(train_data_subset[cols])))\n",
    "        train_accuracy.append(accuracy_score(train_data_subset[target], classifier.predict(train_data_subset[cols])))\n",
    "        test_accuracy.append(accuracy_score(test[target], classifier.predict(test[cols])))\n",
    "\n",
    "    \n",
    "plt.plot(train_sizes[1:], train_accuracy, '--', color=\"b\",  label=\"Training score\")\n",
    "plt.plot(train_sizes[1:], test_accuracy, color=\"g\", label=\"Test Accuracy\")\n",
    "\n",
    "num_of_neighbors = grid.best_params_.get('n_neighbors')\n",
    "plt.title(f\"Learning Curve for K Nearest Neighbor {num_of_neighbors} Classifier\")\n",
    "plt.xlabel(\"Training Set Size\")\n",
    "plt.ylabel(\"Accuracy Score\") \n",
    "plt.legend(loc=\"best\")\n",
    "plt.tight_layout()\n",
    "plt.show()"
   ]
  },
  {
   "cell_type": "code",
   "execution_count": null,
   "id": "b991822a",
   "metadata": {},
   "outputs": [],
   "source": [
    "final_df = neigh_row.append(clf_row).append(ada_row).append(nn_row).append(final_tree_row)\n",
    "final_df.columns = ['Classifier Name', 'Training Error', 'Testing Error', 'Training Time']\n",
    "final_df"
   ]
  },
  {
   "cell_type": "markdown",
   "id": "c4c607d6",
   "metadata": {},
   "source": [
    "# Second Dataset   \n",
    "\n",
    "https://www.kaggle.com/arashnic/hr-analytics-job-change-of-data-scientists?select=aug_train.csv"
   ]
  },
  {
   "cell_type": "markdown",
   "id": "6ffb9cc4",
   "metadata": {},
   "source": [
    "## Prep Data for Modeling "
   ]
  },
  {
   "cell_type": "code",
   "execution_count": null,
   "id": "e06300d6",
   "metadata": {},
   "outputs": [],
   "source": [
    "hr_data.columns"
   ]
  },
  {
   "cell_type": "code",
   "execution_count": null,
   "id": "5852275e",
   "metadata": {},
   "outputs": [],
   "source": [
    "categorical_cols = ['city', 'gender',\n",
    "       'relevent_experience', 'enrolled_university', 'education_level',\n",
    "       'major_discipline', 'experience', 'company_size', 'company_type',\n",
    "       'last_new_job']\n",
    "\n",
    "for i in categorical_cols: \n",
    "    le = preprocessing.LabelEncoder()\n",
    "    le.fit(hr_data[i].unique())\n",
    "    hr_data[i] = le.transform(hr_data[i])\n",
    "\n"
   ]
  },
  {
   "cell_type": "code",
   "execution_count": null,
   "id": "14410f56",
   "metadata": {},
   "outputs": [],
   "source": [
    "target = 'target'\n",
    "cols = ['city', 'city_development_index', 'gender',\n",
    "       'relevent_experience', 'enrolled_university', 'education_level',\n",
    "       'major_discipline', 'experience', 'company_size', 'company_type',\n",
    "       'last_new_job', 'training_hours']\n",
    "\n",
    "#splitn into training and testing data sets\n",
    "train, test = train_test_split(hr_data, test_size=0.3)\n",
    "train_sizes = np.arange(1, len(train), 1000).tolist()\n",
    "train_sizes.append(len(train)-1)"
   ]
  },
  {
   "cell_type": "markdown",
   "id": "38af5f70",
   "metadata": {},
   "source": [
    "## Decision Tree with Pruning "
   ]
  },
  {
   "cell_type": "code",
   "execution_count": null,
   "id": "2b388322",
   "metadata": {},
   "outputs": [],
   "source": [
    "decision_tree = DecisionTreeClassifier(random_state=0)\n",
    "path = decision_tree.cost_complexity_pruning_path(train[cols], train[target])\n",
    "alphas, impurities = path.ccp_alphas, path.impurities\n",
    "accuracy_train, accuracy_test = [], []\n",
    "max_score = 0 \n",
    "max_score_alpha = 0\n",
    "\n",
    "for i in alphas:\n",
    "    \n",
    "    tree = DecisionTreeClassifier(ccp_alpha = i)\n",
    "    \n",
    "    tree.fit(train[cols], train[target])\n",
    "    y_train_pred = tree.predict(train[cols])\n",
    "    y_test_pred = tree.predict(test[cols])\n",
    "    \n",
    "    accuracy_train.append(accuracy_score(train[target], y_train_pred))\n",
    "    accuracy_test.append(accuracy_score(test[target], y_test_pred))\n",
    "    \n",
    "    #use the alpha that has the max score on the test set\n",
    "    max_score_alpha = i if max_score < accuracy_score(test[target], y_test_pred) else max_score_alpha  \n",
    "    max_score = max_score if max_score < accuracy_score(test[target], y_test_pred) else max_score  \n"
   ]
  },
  {
   "cell_type": "code",
   "execution_count": null,
   "id": "9c484f14",
   "metadata": {},
   "outputs": [],
   "source": [
    "sns.set()\n",
    "plt.figure(figsize=(14,7))\n",
    "sns.lineplot(y = accuracy_train, x = alphas, label = \"Train Accuracy\")\n",
    "sns.lineplot(y = accuracy_test, x = alphas, label = \"Test Accuracy\")"
   ]
  },
  {
   "cell_type": "code",
   "execution_count": null,
   "id": "9d29a0bf",
   "metadata": {},
   "outputs": [],
   "source": [
    "start_time = time.time()\n",
    "final_tree = DecisionTreeClassifier(random_state=0, ccp_alpha=max_score_alpha)\n",
    "final_tree.fit(train[cols], train[target])\n",
    "final_tree_runtime = time.time() - start_time\n",
    "final_tree_training_error = 1 - accuracy_score(train[target], final_tree.predict(train[cols]))\n",
    "final_tree_error = 1 - accuracy_score(test[target], final_tree.predict(test[cols]))\n",
    "\n",
    "final_tree_row = pd.DataFrame(['Decision Tree', final_tree_training_error, final_tree_error, final_tree_runtime] ).T"
   ]
  },
  {
   "cell_type": "code",
   "execution_count": null,
   "id": "3516e6a1",
   "metadata": {},
   "outputs": [],
   "source": [
    "test_accuracy = []\n",
    "train_accuracy = []\n",
    "for i in train_sizes:\n",
    "    train_data_subset = train.head(i)\n",
    "    classifier  = DecisionTreeClassifier(random_state=0, ccp_alpha=max_score_alpha)\n",
    "    classifier.fit(train_data_subset[cols], train_data_subset[target])\n",
    "    #print(accuracy_score(train_data_subset[target], classifier.predict(train_data_subset[cols])))\n",
    "    train_accuracy.append(accuracy_score(train_data_subset[target], classifier.predict(train_data_subset[cols])))\n",
    "    test_accuracy.append(accuracy_score(test[target], classifier.predict(test[cols])))\n",
    "\n",
    "    \n",
    "plt.plot(train_sizes, train_accuracy, '--', color=\"b\",  label=\"Training score\")\n",
    "plt.plot(train_sizes, test_accuracy, color=\"g\", label=\"Test Accuracy\")\n",
    "\n",
    "plt.title(\"Learning Curve for Decision Tree Classifier\")\n",
    "plt.xlabel(\"Training Set Size\")\n",
    "plt.ylabel(\"Accuracy Score\") \n",
    "plt.legend(loc=\"best\")\n",
    "plt.tight_layout()\n",
    "plt.show()"
   ]
  },
  {
   "cell_type": "markdown",
   "id": "f8e72dbc",
   "metadata": {},
   "source": [
    "## Neural Network"
   ]
  },
  {
   "cell_type": "code",
   "execution_count": null,
   "id": "c35dfe11",
   "metadata": {},
   "outputs": [],
   "source": [
    "start_time = time.time()\n",
    "nn = MLPClassifier(solver='lbfgs', alpha=1e-5,\n",
    "                    hidden_layer_sizes=(5, 2), random_state=1)\n",
    "\n",
    "nn.fit(train[cols], train[target])\n",
    "nn_runtime = time.time() - start_time \n",
    "\n",
    "nn_training_error = 1 - accuracy_score(train[target], nn.predict(train[cols]))\n",
    "nn_error = 1 - accuracy_score(test[target], nn.predict(test[cols]))\n",
    "\n",
    "nn_row = pd.DataFrame(['Neural Network', nn_training_error, nn_error, nn_runtime] ).T"
   ]
  },
  {
   "cell_type": "code",
   "execution_count": null,
   "id": "2ae15d02",
   "metadata": {},
   "outputs": [],
   "source": [
    "test_accuracy = []\n",
    "train_accuracy = []\n",
    "for i in train_sizes:\n",
    "    train_data_subset = train.head(i)\n",
    "    classifier  = MLPClassifier(solver='lbfgs', alpha=1e-5,\n",
    "                    hidden_layer_sizes=(5, 2), random_state=1)\n",
    "    classifier.fit(train_data_subset[cols], train_data_subset[target])\n",
    "    #print(accuracy_score(train_data_subset[target], classifier.predict(train_data_subset[cols])))\n",
    "    train_accuracy.append(accuracy_score(train_data_subset[target], classifier.predict(train_data_subset[cols])))\n",
    "    test_accuracy.append(accuracy_score(test[target], classifier.predict(test[cols])))\n",
    "\n",
    "    \n",
    "plt.plot(train_sizes, train_accuracy, '--', color=\"b\",  label=\"Training score\")\n",
    "plt.plot(train_sizes, test_accuracy, color=\"g\", label=\"Test Accuracy\")\n",
    "\n",
    "\n",
    "plt.title(\"Learning Curve for Neural Network Classifier\")\n",
    "plt.xlabel(\"Training Set Size\")\n",
    "plt.ylabel(\"Accuracy Score\") \n",
    "plt.legend(loc=\"best\")\n",
    "plt.tight_layout()\n",
    "plt.show()"
   ]
  },
  {
   "cell_type": "markdown",
   "id": "dc6d0ba4",
   "metadata": {},
   "source": [
    "## Boosting "
   ]
  },
  {
   "cell_type": "code",
   "execution_count": null,
   "id": "ba379aea",
   "metadata": {},
   "outputs": [],
   "source": [
    "start_time = time.time()\n",
    "\n",
    "ada = AdaBoostClassifier(n_estimators=100, random_state=0)\n",
    "ada.fit(train[cols], train[target])\n",
    "ada_runtime = time.time() - start_time \n",
    "\n",
    "ada_training_error = 1 - accuracy_score(train[target], ada.predict(train[cols]))\n",
    "ada_error = 1 - accuracy_score(test[target], ada.predict(test[cols]))\n",
    "\n",
    "ada_row = pd.DataFrame(['Ada Boost', ada_training_error, ada_error, ada_runtime] ).T"
   ]
  },
  {
   "cell_type": "code",
   "execution_count": null,
   "id": "d2f5dd6b",
   "metadata": {},
   "outputs": [],
   "source": [
    "test_accuracy = []\n",
    "train_accuracy = []\n",
    "for i in train_sizes:\n",
    "    train_data_subset = train.head(i)\n",
    "    classifier  = AdaBoostClassifier(n_estimators=100, random_state=0)\n",
    "    classifier.fit(train_data_subset[cols], train_data_subset[target])\n",
    "    #print(accuracy_score(train_data_subset[target], classifier.predict(train_data_subset[cols])))\n",
    "    train_accuracy.append(accuracy_score(train_data_subset[target], classifier.predict(train_data_subset[cols])))\n",
    "    test_accuracy.append(accuracy_score(test[target], classifier.predict(test[cols])))\n",
    "\n",
    "    \n",
    "plt.plot(train_sizes, train_accuracy, '--', color=\"b\",  label=\"Training score\")\n",
    "plt.plot(train_sizes, test_accuracy, color=\"g\", label=\"Test Accuracy\")\n",
    "\n",
    "plt.title(\"Learning Curve for Ada Boost Classifier\")\n",
    "plt.xlabel(\"Training Set Size\")\n",
    "plt.ylabel(\"Accuracy Score\") \n",
    "plt.legend(loc=\"best\")\n",
    "plt.tight_layout()\n",
    "plt.show()"
   ]
  },
  {
   "cell_type": "markdown",
   "id": "440fae7b",
   "metadata": {},
   "source": [
    "## Support Vector Machines "
   ]
  },
  {
   "cell_type": "code",
   "execution_count": null,
   "id": "210cc095",
   "metadata": {},
   "outputs": [],
   "source": [
    "start_time = time.time()\n",
    "\n",
    "clf = make_pipeline(StandardScaler(), SVC(gamma='auto'))\n",
    "clf.fit(train[cols], train[target])\n",
    "clf_runtime = time.time() - start_time \n",
    "\n",
    "clf_training_error = 1 - accuracy_score(train[target], clf.predict(train[cols]))\n",
    "clf_error = 1 - accuracy_score(test[target], clf.predict(test[cols]))\n",
    "\n",
    "clf_row = pd.DataFrame(['Support Vector Machine', clf_training_error, clf_error, clf_runtime] ).T"
   ]
  },
  {
   "cell_type": "code",
   "execution_count": null,
   "id": "683702e8",
   "metadata": {},
   "outputs": [],
   "source": [
    "test_accuracy = []\n",
    "train_accuracy = []\n",
    "for i in train_sizes:\n",
    "    if i > 1: \n",
    "        train_data_subset = train.head(i)\n",
    "        classifier  = make_pipeline(StandardScaler(), SVC(gamma='auto'))\n",
    "        classifier.fit(train_data_subset[cols], train_data_subset[target])\n",
    "        #print(accuracy_score(train_data_subset[target], classifier.predict(train_data_subset[cols])))\n",
    "        train_accuracy.append(accuracy_score(train_data_subset[target], classifier.predict(train_data_subset[cols])))\n",
    "        test_accuracy.append(accuracy_score(test[target], classifier.predict(test[cols])))\n",
    "\n",
    "    \n",
    "plt.plot(train_sizes[1:], train_accuracy, '--', color=\"b\",  label=\"Training score\")\n",
    "plt.plot(train_sizes[1:], test_accuracy, color=\"g\", label=\"Test Accuracy\")\n",
    "\n",
    "plt.title(\"Learning Curve for Support Vector Machine Classifier\")\n",
    "plt.xlabel(\"Training Set Size\")\n",
    "plt.ylabel(\"Accuracy Score\") \n",
    "plt.legend(loc=\"best\")\n",
    "plt.tight_layout()\n",
    "plt.show()"
   ]
  },
  {
   "cell_type": "markdown",
   "id": "cfc0d873",
   "metadata": {},
   "source": [
    "## K Nearest Neighbors"
   ]
  },
  {
   "cell_type": "code",
   "execution_count": null,
   "id": "a9c056b6",
   "metadata": {},
   "outputs": [],
   "source": [
    "from sklearn.model_selection import GridSearchCV\n",
    "#https://www.ritchieng.com/machine-learning-efficiently-search-tuning-param/\n",
    "# define the parameter values that should be searched\n",
    "# for python 2, k_range = range(1, 31)\n",
    "k_range = list(range(1, 10))\n",
    "\n",
    "# create a parameter grid: map the parameter names to the values that should be searched\n",
    "# simply a python dictionary\n",
    "# key: parameter name\n",
    "# value: list of values that should be searched for that parameter\n",
    "# single key-value pair for param_grid\n",
    "param_grid = [{'n_neighbors': k_range,\n",
    "         'weights': ['uniform', 'distance']}]\n",
    "\n",
    "knn = KNeighborsClassifier()\n",
    "\n",
    "grid = GridSearchCV(knn, param_grid, cv=10, scoring='accuracy')\n",
    "grid.fit(train[cols], train[target])\n",
    "\n",
    "# plot the results\n",
    "# this is identical to the one we generated above\n",
    "\n",
    "grid_mean_scores = grid.cv_results_.get('mean_test_score')\n",
    "\n",
    "plt.plot(k_range, grid_mean_scores)\n",
    "plt.xlabel('Value of K for KNN')\n",
    "plt.ylabel('Cross-Validated Accuracy')"
   ]
  },
  {
   "cell_type": "code",
   "execution_count": null,
   "id": "ce7f8a24",
   "metadata": {},
   "outputs": [],
   "source": [
    "start_time = time.time()\n",
    "\n",
    "neigh = KNeighborsClassifier(n_neighbors=grid.best_params_.get('n_neighbors'))\n",
    "neigh.fit(train[cols], train[target])\n",
    "neigh_runtime = time.time() - start_time \n",
    "\n",
    "neigh_training_error = 1 - accuracy_score(train[target], neigh.predict(train[cols]))\n",
    "neigh_error = 1 - accuracy_score(test[target], neigh.predict(test[cols]))\n",
    "\n",
    "neigh_row = pd.DataFrame(['K Nearest Neighbor', neigh_training_error, neigh_error, neigh_runtime]).T "
   ]
  },
  {
   "cell_type": "code",
   "execution_count": null,
   "id": "a6e7cd65",
   "metadata": {},
   "outputs": [],
   "source": [
    "test_accuracy = []\n",
    "train_accuracy = []\n",
    "for i in train_sizes:\n",
    "    if i > 1: \n",
    "        train_data_subset = train.head(i)\n",
    "        classifier  = KNeighborsClassifier(n_neighbors=3)\n",
    "        classifier.fit(train_data_subset[cols], train_data_subset[target])\n",
    "        #print(accuracy_score(train_data_subset[target], classifier.predict(train_data_subset[cols])))\n",
    "        train_accuracy.append(accuracy_score(train_data_subset[target], classifier.predict(train_data_subset[cols])))\n",
    "        test_accuracy.append(accuracy_score(test[target], classifier.predict(test[cols])))\n",
    "\n",
    "    \n",
    "plt.plot(train_sizes[1:], train_accuracy, '--', color=\"b\",  label=\"Training score\")\n",
    "plt.plot(train_sizes[1:], test_accuracy, color=\"g\", label=\"Test Accuracy\")\n",
    "\n",
    "num_of_neighbors = grid.best_params_.get('n_neighbors')\n",
    "plt.title(f\"Learning Curve for K Nearest Neighbor {num_of_neighbors} Classifier\")\n",
    "plt.xlabel(\"Training Set Size\")\n",
    "plt.ylabel(\"Accuracy Score\") \n",
    "plt.legend(loc=\"best\")\n",
    "plt.tight_layout()\n",
    "plt.show()"
   ]
  },
  {
   "cell_type": "code",
   "execution_count": null,
   "id": "3eeb2845",
   "metadata": {},
   "outputs": [],
   "source": [
    "final_df = neigh_row.append(clf_row).append(ada_row).append(nn_row).append(final_tree_row)\n",
    "final_df.columns = ['Classifier Name', 'Training Error', 'Testing Error', 'Training Time']"
   ]
  },
  {
   "cell_type": "code",
   "execution_count": null,
   "id": "d4a4903b",
   "metadata": {},
   "outputs": [],
   "source": [
    "final_df"
   ]
  },
  {
   "cell_type": "code",
   "execution_count": null,
   "id": "e479e443",
   "metadata": {},
   "outputs": [],
   "source": []
  }
 ],
 "metadata": {
  "kernelspec": {
   "display_name": "Python 3 (ipykernel)",
   "language": "python",
   "name": "python3"
  },
  "language_info": {
   "codemirror_mode": {
    "name": "ipython",
    "version": 3
   },
   "file_extension": ".py",
   "mimetype": "text/x-python",
   "name": "python",
   "nbconvert_exporter": "python",
   "pygments_lexer": "ipython3",
   "version": "3.9.6"
  }
 },
 "nbformat": 4,
 "nbformat_minor": 5
}
