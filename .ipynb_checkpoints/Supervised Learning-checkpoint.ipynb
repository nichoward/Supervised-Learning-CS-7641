{
 "cells": [
  {
   "cell_type": "markdown",
   "id": "47c4ddbf",
   "metadata": {},
   "source": [
    "# Import Packages and Classifiers"
   ]
  },
  {
   "cell_type": "code",
   "execution_count": 1,
   "id": "646a58f0",
   "metadata": {},
   "outputs": [],
   "source": [
    "#!pip install --user scikit-learn"
   ]
  },
  {
   "cell_type": "code",
   "execution_count": 2,
   "id": "8ae4ac91",
   "metadata": {},
   "outputs": [],
   "source": [
    "#!pip install --user matplotlib"
   ]
  },
  {
   "cell_type": "code",
   "execution_count": 3,
   "id": "67f4ec72",
   "metadata": {},
   "outputs": [],
   "source": [
    "#!pip install --user pandas"
   ]
  },
  {
   "cell_type": "code",
   "execution_count": 4,
   "id": "71d45fad",
   "metadata": {},
   "outputs": [],
   "source": [
    "#!pip install --user numpy"
   ]
  },
  {
   "cell_type": "code",
   "execution_count": 15,
   "id": "7d471f61",
   "metadata": {},
   "outputs": [
    {
     "name": "stdout",
     "output_type": "stream",
     "text": [
      "Collecting seaborn\n",
      "  Downloading seaborn-0.11.2-py3-none-any.whl (292 kB)\n",
      "\u001b[K     |████████████████████████████████| 292 kB 4.4 MB/s eta 0:00:01\n",
      "\u001b[?25hRequirement already satisfied: numpy>=1.15 in /Users/nicole/Library/Python/3.9/lib/python/site-packages (from seaborn) (1.21.2)\n",
      "Requirement already satisfied: matplotlib>=2.2 in /Users/nicole/Library/Python/3.9/lib/python/site-packages (from seaborn) (3.4.3)\n",
      "Requirement already satisfied: pandas>=0.23 in /Users/nicole/Library/Python/3.9/lib/python/site-packages (from seaborn) (1.3.2)\n",
      "Requirement already satisfied: scipy>=1.0 in /Users/nicole/Library/Python/3.9/lib/python/site-packages (from seaborn) (1.7.1)\n",
      "Requirement already satisfied: pyparsing>=2.2.1 in /Library/Frameworks/Python.framework/Versions/3.9/lib/python3.9/site-packages (from matplotlib>=2.2->seaborn) (2.4.7)\n",
      "Requirement already satisfied: cycler>=0.10 in /Users/nicole/Library/Python/3.9/lib/python/site-packages (from matplotlib>=2.2->seaborn) (0.10.0)\n",
      "Requirement already satisfied: python-dateutil>=2.7 in /Library/Frameworks/Python.framework/Versions/3.9/lib/python3.9/site-packages (from matplotlib>=2.2->seaborn) (2.8.2)\n",
      "Requirement already satisfied: pillow>=6.2.0 in /Users/nicole/Library/Python/3.9/lib/python/site-packages (from matplotlib>=2.2->seaborn) (8.3.1)\n",
      "Requirement already satisfied: kiwisolver>=1.0.1 in /Users/nicole/Library/Python/3.9/lib/python/site-packages (from matplotlib>=2.2->seaborn) (1.3.2)\n",
      "Requirement already satisfied: six in /Library/Frameworks/Python.framework/Versions/3.9/lib/python3.9/site-packages (from cycler>=0.10->matplotlib>=2.2->seaborn) (1.16.0)\n",
      "Requirement already satisfied: pytz>=2017.3 in /Library/Frameworks/Python.framework/Versions/3.9/lib/python3.9/site-packages (from pandas>=0.23->seaborn) (2021.1)\n",
      "Installing collected packages: seaborn\n",
      "Successfully installed seaborn-0.11.2\n"
     ]
    }
   ],
   "source": [
    "#!pip install --user seaborn"
   ]
  },
  {
   "cell_type": "code",
   "execution_count": 16,
   "id": "27611270",
   "metadata": {},
   "outputs": [],
   "source": [
    "from sklearn.tree import DecisionTreeClassifier\n",
    "from sklearn.model_selection import train_test_split\n",
    "from sklearn.neural_network import MLPClassifier\n",
    "from sklearn.ensemble import AdaBoostClassifier\n",
    "from sklearn import svm, metrics\n",
    "from sklearn.neighbors import KNeighborsClassifier\n",
    "from sklearn.model_selection import cross_val_score\n",
    "\n",
    "from sklearn.pipeline import make_pipeline\n",
    "from sklearn.preprocessing import StandardScaler\n",
    "from sklearn.svm import SVC\n",
    "\n",
    "import matplotlib.pyplot as plt\n",
    "from sklearn import preprocessing\n",
    "import seaborn as sns\n"
   ]
  },
  {
   "cell_type": "code",
   "execution_count": 6,
   "id": "bddc0d6a",
   "metadata": {},
   "outputs": [],
   "source": [
    "import pandas as pd \n",
    "import numpy as np"
   ]
  },
  {
   "cell_type": "markdown",
   "id": "bb491f49",
   "metadata": {},
   "source": [
    "https://scikit-learn.org/stable/modules/cross_validation.html"
   ]
  },
  {
   "cell_type": "markdown",
   "id": "d00ce0c4",
   "metadata": {},
   "source": [
    "# Import Data "
   ]
  },
  {
   "cell_type": "code",
   "execution_count": 21,
   "id": "012272ce",
   "metadata": {},
   "outputs": [],
   "source": [
    "hr_data = pd.read_csv(\"hr_data.csv\")\n",
    "insurance_data = pd.read_csv(\"insurance_data.csv\")"
   ]
  },
  {
   "cell_type": "markdown",
   "id": "d396c8e2",
   "metadata": {},
   "source": [
    "# First Dataset \n",
    "https://www.kaggle.com/arashnic/imbalanced-data-practice?select=aug_train.csv"
   ]
  },
  {
   "cell_type": "code",
   "execution_count": 28,
   "id": "21290a26",
   "metadata": {},
   "outputs": [
    {
     "data": {
      "text/plain": [
       "array(['SEKER', 'BARBUNYA', 'BOMBAY', 'CALI', 'HOROZ', 'SIRA', 'DERMASON'],\n",
       "      dtype=object)"
      ]
     },
     "execution_count": 28,
     "metadata": {},
     "output_type": "execute_result"
    }
   ],
   "source": [
    "bean_data.Class.unique()"
   ]
  },
  {
   "cell_type": "markdown",
   "id": "d5dfb91d",
   "metadata": {},
   "source": [
    "## Prep Data for Modeling "
   ]
  },
  {
   "cell_type": "code",
   "execution_count": 23,
   "id": "02310500",
   "metadata": {},
   "outputs": [
    {
     "data": {
      "text/plain": [
       "Index(['id', 'Gender', 'Age', 'Driving_License', 'Region_Code',\n",
       "       'Previously_Insured', 'Vehicle_Age', 'Vehicle_Damage', 'Annual_Premium',\n",
       "       'Policy_Sales_Channel', 'Vintage', 'Response'],\n",
       "      dtype='object')"
      ]
     },
     "execution_count": 23,
     "metadata": {},
     "output_type": "execute_result"
    }
   ],
   "source": [
    "insurance_data.columns"
   ]
  },
  {
   "cell_type": "code",
   "execution_count": 24,
   "id": "75c08738",
   "metadata": {},
   "outputs": [],
   "source": [
    "le = preprocessing.LabelEncoder()\n",
    "le.fit(insurance_data.Gender.unique())\n",
    "insurance_data['Gender'] = le.transform(insurance_data.Gender)\n",
    "\n",
    "#Vehicle_Age \n",
    "le1 = preprocessing.LabelEncoder()\n",
    "le1.fit(insurance_data.Vehicle_Age.unique())\n",
    "insurance_data['Vehicle_Age'] = le1.transform(insurance_data.Vehicle_Age)\n",
    "\n",
    "#Vehicle_Damage \n",
    "le2 = preprocessing.LabelEncoder()\n",
    "le2.fit(insurance_data.Vehicle_Damage.unique())\n",
    "insurance_data['Vehicle_Damage'] = le2.transform(insurance_data.Vehicle_Damage)"
   ]
  },
  {
   "cell_type": "code",
   "execution_count": 25,
   "id": "e63838b3",
   "metadata": {},
   "outputs": [],
   "source": [
    "target = 'Response'\n",
    "cols = ['Gender', 'Age', 'Driving_License', 'Region_Code',\n",
    "       'Previously_Insured', 'Vehicle_Age', 'Vehicle_Damage', 'Annual_Premium',\n",
    "       'Policy_Sales_Channel', 'Vintage']\n",
    "\n",
    "#splitn into training and testing data sets\n",
    "train, test = train_test_split(insurance_data, test_size=0.3)"
   ]
  },
  {
   "cell_type": "markdown",
   "id": "3ce54f1f",
   "metadata": {},
   "source": [
    "## Decision Tree with Pruning \n",
    "https://scikit-learn.org/stable/auto_examples/tree/plot_cost_complexity_pruning.html\n",
    "\n",
    "https://www.analyticsvidhya.com/blog/2020/10/cost-complexity-pruning-decision-trees/"
   ]
  },
  {
   "cell_type": "code",
   "execution_count": 18,
   "id": "026e32b4",
   "metadata": {},
   "outputs": [],
   "source": [
    "decision_tree = DecisionTreeClassifier(random_state=0)\n",
    "path = decision_tree.cost_complexity_pruning_path(train[cols], train[target])\n",
    "alphas, impurities = path.ccp_alphas, path.impurities\n"
   ]
  },
  {
   "cell_type": "code",
   "execution_count": null,
   "id": "05af4315",
   "metadata": {},
   "outputs": [],
   "source": [
    "from sklearn.metrics import accuracy_score\n",
    "accuracy_train, accuracy_test = [], []\n",
    "\n",
    "for i in alphas:\n",
    "    tree = DecisionTreeClassifier(ccp_alpha = i)\n",
    "    \n",
    "    tree.fit(train[cols], train[target])\n",
    "    y_train_pred = tree.predict(train[cols])\n",
    "    y_test_pred = tree.predict(test[cols])\n",
    "    \n",
    "    accuracy_train.append(accuracy_score(train[target], y_train_pred))\n",
    "    accuracy_test.append(accuracy_score(test[target], y_test_pred))\n",
    "    \n",
    "    \n",
    "sns.set()\n",
    "plt.figure(figsize=(14,7))\n",
    "sns.lineplot(y = accuracy_train, x = alphas, label = \"Train Accuracy\")\n",
    "sns.lineplot(y = accuracy_test, x = alphas, label = \"Test Accuracy\")"
   ]
  },
  {
   "cell_type": "markdown",
   "id": "be2ff05a",
   "metadata": {},
   "source": [
    "## Neural Network\n",
    "https://scikit-learn.org/stable/modules/neural_networks_supervised.html"
   ]
  },
  {
   "cell_type": "code",
   "execution_count": 31,
   "id": "4be2044d",
   "metadata": {},
   "outputs": [
    {
     "data": {
      "text/plain": [
       "0.8360968887105638"
      ]
     },
     "execution_count": 31,
     "metadata": {},
     "output_type": "execute_result"
    }
   ],
   "source": [
    "nn = MLPClassifier(solver='lbfgs', alpha=1e-5,\n",
    "                    hidden_layer_sizes=(5, 2), random_state=1)\n",
    "\n",
    "nn.fit(train[cols], train[target])\n",
    "\n",
    "accuracy_score(test[target], nn.predict(test[cols]))"
   ]
  },
  {
   "cell_type": "markdown",
   "id": "b9109f17",
   "metadata": {},
   "source": [
    "## Boosting \n",
    "https://scikit-learn.org/stable/modules/generated/sklearn.ensemble.AdaBoostClassifier.html#:~:text=An%20AdaBoost%20%5B1%5D%20classifier%20is,focus%20more%20on%20difficult%20cases."
   ]
  },
  {
   "cell_type": "code",
   "execution_count": 32,
   "id": "6bafc14a",
   "metadata": {},
   "outputs": [
    {
     "data": {
      "text/plain": [
       "0.8428916587437961"
      ]
     },
     "execution_count": 32,
     "metadata": {},
     "output_type": "execute_result"
    }
   ],
   "source": [
    "ada = AdaBoostClassifier(n_estimators=100, random_state=0)\n",
    "ada.fit(train[cols], train[target])\n",
    "\n",
    "accuracy_score(test[target], ada.predict(test[cols]))"
   ]
  },
  {
   "cell_type": "markdown",
   "id": "958785d3",
   "metadata": {},
   "source": [
    "## Support Vector Machines \n",
    "https://scikit-learn.org/stable/modules/generated/sklearn.svm.SVC.html\n",
    "\n",
    "https://scikit-learn.org/stable/auto_examples/classification/plot_digits_classification.html#sphx-glr-auto-examples-classification-plot-digits-classification-py"
   ]
  },
  {
   "cell_type": "code",
   "execution_count": null,
   "id": "db2e2aaf",
   "metadata": {},
   "outputs": [],
   "source": [
    "clf = make_pipeline(StandardScaler(), SVC(gamma='auto'))\n",
    "clf.fit(train[cols], train[target])\n",
    "\n",
    "accuracy_score(test[target], clf.predict(test[cols]))"
   ]
  },
  {
   "cell_type": "markdown",
   "id": "2f5e7dc9",
   "metadata": {},
   "source": [
    "## K Nearest Neighbors\n",
    "https://scikit-learn.org/stable/modules/generated/sklearn.neighbors.KNeighborsClassifier.html\n"
   ]
  },
  {
   "cell_type": "code",
   "execution_count": null,
   "id": "a5b6329c",
   "metadata": {},
   "outputs": [],
   "source": [
    "neigh = KNeighborsClassifier(n_neighbors=3)\n",
    "neigh.fit(train[cols], train[target])\n",
    "\n",
    "accuracy_score(test[target], neigh.predict(test[cols]))"
   ]
  },
  {
   "cell_type": "markdown",
   "id": "c4c607d6",
   "metadata": {},
   "source": [
    "# Second Dataset   \n",
    "\n",
    "https://www.kaggle.com/arashnic/hr-analytics-job-change-of-data-scientists?select=aug_train.csv"
   ]
  },
  {
   "cell_type": "markdown",
   "id": "6ffb9cc4",
   "metadata": {},
   "source": [
    "## Prep Data for Modeling "
   ]
  },
  {
   "cell_type": "code",
   "execution_count": null,
   "id": "96cc3e81",
   "metadata": {},
   "outputs": [],
   "source": [
    "target = ''\n",
    "cols = []\n",
    "\n",
    "#splitn into training and testing data sets\n",
    "train, test = train_test_split(hr_data, test_size=0.3)"
   ]
  },
  {
   "cell_type": "markdown",
   "id": "38af5f70",
   "metadata": {},
   "source": [
    "## Decision Tree with Pruning "
   ]
  },
  {
   "cell_type": "markdown",
   "id": "f8e72dbc",
   "metadata": {},
   "source": [
    "## Neural Network"
   ]
  },
  {
   "cell_type": "markdown",
   "id": "dc6d0ba4",
   "metadata": {},
   "source": [
    "## Boosting "
   ]
  },
  {
   "cell_type": "markdown",
   "id": "be6e3a31",
   "metadata": {},
   "source": [
    "## Boosting "
   ]
  },
  {
   "cell_type": "markdown",
   "id": "440fae7b",
   "metadata": {},
   "source": [
    "## Support Vector Machines "
   ]
  }
 ],
 "metadata": {
  "kernelspec": {
   "display_name": "Python 3 (ipykernel)",
   "language": "python",
   "name": "python3"
  },
  "language_info": {
   "codemirror_mode": {
    "name": "ipython",
    "version": 3
   },
   "file_extension": ".py",
   "mimetype": "text/x-python",
   "name": "python",
   "nbconvert_exporter": "python",
   "pygments_lexer": "ipython3",
   "version": "3.9.6"
  }
 },
 "nbformat": 4,
 "nbformat_minor": 5
}
