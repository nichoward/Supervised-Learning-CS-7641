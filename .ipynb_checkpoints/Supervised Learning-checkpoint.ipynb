{
 "cells": [
  {
   "cell_type": "markdown",
   "id": "47c4ddbf",
   "metadata": {},
   "source": [
    "# Import Packages and Classifiers"
   ]
  },
  {
   "cell_type": "code",
   "execution_count": 1,
   "id": "646a58f0",
   "metadata": {},
   "outputs": [],
   "source": [
    "#!pip install --user scikit-learn"
   ]
  },
  {
   "cell_type": "code",
   "execution_count": 2,
   "id": "8ae4ac91",
   "metadata": {},
   "outputs": [],
   "source": [
    "#!pip install --user matplotlib"
   ]
  },
  {
   "cell_type": "code",
   "execution_count": 3,
   "id": "67f4ec72",
   "metadata": {},
   "outputs": [],
   "source": [
    "#!pip install --user pandas"
   ]
  },
  {
   "cell_type": "code",
   "execution_count": 4,
   "id": "71d45fad",
   "metadata": {},
   "outputs": [],
   "source": [
    "#!pip install --user numpy"
   ]
  },
  {
   "cell_type": "code",
   "execution_count": 5,
   "id": "7d471f61",
   "metadata": {},
   "outputs": [],
   "source": [
    "#!pip install --user seaborn"
   ]
  },
  {
   "cell_type": "code",
   "execution_count": 1,
   "id": "27611270",
   "metadata": {},
   "outputs": [],
   "source": [
    "from sklearn.tree import DecisionTreeClassifier\n",
    "from sklearn.model_selection import train_test_split, learning_curve\n",
    "from sklearn.neural_network import MLPClassifier\n",
    "from sklearn.ensemble import AdaBoostClassifier\n",
    "from sklearn import svm, metrics\n",
    "from sklearn.neighbors import KNeighborsClassifier\n",
    "from sklearn.model_selection import cross_val_score\n",
    "\n",
    "from sklearn.pipeline import make_pipeline\n",
    "from sklearn.preprocessing import StandardScaler\n",
    "from sklearn.svm import SVC\n",
    "\n",
    "import matplotlib.pyplot as plt\n",
    "from sklearn import preprocessing\n",
    "import seaborn as sns\n",
    "from sklearn.metrics import accuracy_score\n",
    "import time\n",
    "\n",
    "from sklearn.model_selection import learning_curve\n",
    "import pandas as pd \n",
    "import numpy as np  \n"
   ]
  },
  {
   "cell_type": "markdown",
   "id": "bb491f49",
   "metadata": {},
   "source": [
    "https://scikit-learn.org/stable/modules/cross_validation.html"
   ]
  },
  {
   "cell_type": "markdown",
   "id": "d00ce0c4",
   "metadata": {},
   "source": [
    "# Import Data "
   ]
  },
  {
   "cell_type": "code",
   "execution_count": 2,
   "id": "012272ce",
   "metadata": {},
   "outputs": [],
   "source": [
    "hr_data = pd.read_csv(\"hr_data.csv\")\n",
    "bank_data = pd.read_csv(\"bank-marketing.csv\")"
   ]
  },
  {
   "cell_type": "markdown",
   "id": "d396c8e2",
   "metadata": {},
   "source": [
    "# First Dataset \n",
    "https://www.kaggle.com/dhirajnirne/bank-marketing"
   ]
  },
  {
   "cell_type": "markdown",
   "id": "d5dfb91d",
   "metadata": {},
   "source": [
    "## Prep Data for Modeling "
   ]
  },
  {
   "cell_type": "code",
   "execution_count": 3,
   "id": "02310500",
   "metadata": {},
   "outputs": [
    {
     "data": {
      "text/plain": [
       "Index(['age', 'age group', 'eligible', 'job', 'salary', 'marital', 'education',\n",
       "       'marital-education', 'targeted', 'default', 'balance', 'housing',\n",
       "       'loan', 'contact', 'day', 'month', 'duration', 'campaign', 'pdays',\n",
       "       'previous', 'poutcome', 'y', 'response'],\n",
       "      dtype='object')"
      ]
     },
     "execution_count": 3,
     "metadata": {},
     "output_type": "execute_result"
    }
   ],
   "source": [
    "bank_data.columns"
   ]
  },
  {
   "cell_type": "code",
   "execution_count": 4,
   "id": "75c08738",
   "metadata": {},
   "outputs": [],
   "source": [
    "categorical_cols = ['age group', 'eligible', 'job', 'marital', 'education',\n",
    "       'marital-education', 'targeted', 'default', 'balance', 'housing',\n",
    "       'loan', 'contact', 'day', 'month', 'duration', 'campaign', 'poutcome']\n",
    "\n",
    "for i in categorical_cols: \n",
    "    le = preprocessing.LabelEncoder()\n",
    "    le.fit(bank_data[i].unique())\n",
    "    bank_data[i] = le.transform(bank_data[i])"
   ]
  },
  {
   "cell_type": "code",
   "execution_count": 5,
   "id": "e63838b3",
   "metadata": {},
   "outputs": [],
   "source": [
    "target = 'response'\n",
    "cols = ['age', 'age group', 'eligible', 'job', 'salary', 'marital', 'education',\n",
    "       'marital-education', 'targeted', 'default', 'balance', 'housing',\n",
    "       'loan', 'contact', 'day', 'month', 'duration', 'campaign', 'pdays',\n",
    "       'previous', 'poutcome']\n",
    "\n",
    "#splitn into training and testing data sets\n",
    "train, test = train_test_split(bank_data, test_size=0.2)"
   ]
  },
  {
   "cell_type": "code",
   "execution_count": 49,
   "id": "01c72698",
   "metadata": {},
   "outputs": [],
   "source": [
    "train_sizes = np.arange(1, len(train), 1500).tolist()#.append(len(train))\n",
    "train_sizes.append(len(train)-1)\n"
   ]
  },
  {
   "cell_type": "markdown",
   "id": "3ce54f1f",
   "metadata": {},
   "source": [
    "## Decision Tree with Pruning \n",
    "https://scikit-learn.org/stable/auto_examples/tree/plot_cost_complexity_pruning.html\n",
    "\n",
    "https://www.analyticsvidhya.com/blog/2020/10/cost-complexity-pruning-decision-trees/"
   ]
  },
  {
   "cell_type": "code",
   "execution_count": 17,
   "id": "026e32b4",
   "metadata": {},
   "outputs": [],
   "source": [
    "decision_tree = DecisionTreeClassifier(random_state=0)\n",
    "path = decision_tree.cost_complexity_pruning_path(train[cols], train[target])\n",
    "alphas, impurities = path.ccp_alphas, path.impurities\n"
   ]
  },
  {
   "cell_type": "code",
   "execution_count": 18,
   "id": "05af4315",
   "metadata": {},
   "outputs": [],
   "source": [
    "from sklearn.metrics import accuracy_score\n",
    "accuracy_train, accuracy_test = [], []\n",
    "max_score = 0 \n",
    "max_score_alpha = 0\n",
    "\n",
    "for i in alphas:\n",
    "    \n",
    "    tree = DecisionTreeClassifier(ccp_alpha = i)\n",
    "    \n",
    "    tree.fit(train[cols], train[target])\n",
    "    y_train_pred = tree.predict(train[cols])\n",
    "    y_test_pred = tree.predict(test[cols])\n",
    "    \n",
    "    accuracy_train.append(accuracy_score(train[target], y_train_pred))\n",
    "    accuracy_test.append(accuracy_score(test[target], y_test_pred))\n",
    "    \n",
    "    #use the alpha that has the max score on the test set\n",
    "    max_score_alpha = i if max_score < accuracy_score(test[target], y_test_pred) else max_score_alpha  \n",
    "    max_score = max_score if max_score < accuracy_score(test[target], y_test_pred) else max_score  \n"
   ]
  },
  {
   "cell_type": "code",
   "execution_count": 19,
   "id": "62f2f59a",
   "metadata": {},
   "outputs": [
    {
     "data": {
      "text/plain": [
       "<AxesSubplot:>"
      ]
     },
     "execution_count": 19,
     "metadata": {},
     "output_type": "execute_result"
    },
    {
     "data": {
      "image/png": "[encoded data removed]",
      "text/plain": [
       "<Figure size 1008x504 with 1 Axes>"
      ]
     },
     "metadata": {},
     "output_type": "display_data"
    }
   ],
   "source": [
    "sns.set()\n",
    "plt.figure(figsize=(14,7))\n",
    "sns.lineplot(y = accuracy_train, x = alphas, label = \"Train Accuracy\")\n",
    "sns.lineplot(y = accuracy_test, x = alphas, label = \"Test Accuracy\")"
   ]
  },
  {
   "cell_type": "code",
   "execution_count": 20,
   "id": "b16b3d74",
   "metadata": {},
   "outputs": [],
   "source": [
    "start_time = time.time()\n",
    "final_tree = DecisionTreeClassifier(random_state=0, ccp_alpha=max_score_alpha)\n",
    "final_tree.fit(train[cols], train[target])\n",
    "final_tree_runtime = time.time() - start_time\n",
    "final_tree_training_error = 1 - accuracy_score(train[target], final_tree.predict(train[cols]))\n",
    "final_tree_error = 1 - accuracy_score(test[target], final_tree.predict(test[cols]))"
   ]
  },
  {
   "cell_type": "code",
   "execution_count": 21,
   "id": "c4c98191",
   "metadata": {},
   "outputs": [],
   "source": [
    "final_tree_row = pd.DataFrame(['Decision Tree', final_tree_training_error, final_tree_error, final_tree_runtime] ).T"
   ]
  },
  {
   "cell_type": "code",
   "execution_count": 38,
   "id": "c25bf0d7",
   "metadata": {},
   "outputs": [
    {
     "data": {
      "text/html": [
       "<div>\n",
       "<style scoped>\n",
       "    .dataframe tbody tr th:only-of-type {\n",
       "        vertical-align: middle;\n",
       "    }\n",
       "\n",
       "    .dataframe tbody tr th {\n",
       "        vertical-align: top;\n",
       "    }\n",
       "\n",
       "    .dataframe thead th {\n",
       "        text-align: right;\n",
       "    }\n",
       "</style>\n",
       "<table border=\"1\" class=\"dataframe\">\n",
       "  <thead>\n",
       "    <tr style=\"text-align: right;\">\n",
       "      <th></th>\n",
       "      <th>age</th>\n",
       "      <th>age group</th>\n",
       "      <th>eligible</th>\n",
       "      <th>job</th>\n",
       "      <th>salary</th>\n",
       "      <th>marital</th>\n",
       "      <th>education</th>\n",
       "      <th>marital-education</th>\n",
       "      <th>targeted</th>\n",
       "      <th>default</th>\n",
       "      <th>...</th>\n",
       "      <th>contact</th>\n",
       "      <th>day</th>\n",
       "      <th>month</th>\n",
       "      <th>duration</th>\n",
       "      <th>campaign</th>\n",
       "      <th>pdays</th>\n",
       "      <th>previous</th>\n",
       "      <th>poutcome</th>\n",
       "      <th>y</th>\n",
       "      <th>response</th>\n",
       "    </tr>\n",
       "  </thead>\n",
       "  <tbody>\n",
       "    <tr>\n",
       "      <th>13977</th>\n",
       "      <td>37</td>\n",
       "      <td>2</td>\n",
       "      <td>1</td>\n",
       "      <td>7</td>\n",
       "      <td>70000</td>\n",
       "      <td>2</td>\n",
       "      <td>1</td>\n",
       "      <td>9</td>\n",
       "      <td>1</td>\n",
       "      <td>0</td>\n",
       "      <td>...</td>\n",
       "      <td>0</td>\n",
       "      <td>9</td>\n",
       "      <td>5</td>\n",
       "      <td>118</td>\n",
       "      <td>0</td>\n",
       "      <td>-1</td>\n",
       "      <td>0</td>\n",
       "      <td>3</td>\n",
       "      <td>no</td>\n",
       "      <td>0</td>\n",
       "    </tr>\n",
       "    <tr>\n",
       "      <th>16392</th>\n",
       "      <td>56</td>\n",
       "      <td>4</td>\n",
       "      <td>1</td>\n",
       "      <td>7</td>\n",
       "      <td>70000</td>\n",
       "      <td>0</td>\n",
       "      <td>1</td>\n",
       "      <td>1</td>\n",
       "      <td>1</td>\n",
       "      <td>0</td>\n",
       "      <td>...</td>\n",
       "      <td>0</td>\n",
       "      <td>22</td>\n",
       "      <td>5</td>\n",
       "      <td>335</td>\n",
       "      <td>2</td>\n",
       "      <td>-1</td>\n",
       "      <td>0</td>\n",
       "      <td>3</td>\n",
       "      <td>no</td>\n",
       "      <td>0</td>\n",
       "    </tr>\n",
       "    <tr>\n",
       "      <th>27349</th>\n",
       "      <td>40</td>\n",
       "      <td>3</td>\n",
       "      <td>1</td>\n",
       "      <td>4</td>\n",
       "      <td>100000</td>\n",
       "      <td>1</td>\n",
       "      <td>1</td>\n",
       "      <td>5</td>\n",
       "      <td>1</td>\n",
       "      <td>0</td>\n",
       "      <td>...</td>\n",
       "      <td>0</td>\n",
       "      <td>20</td>\n",
       "      <td>9</td>\n",
       "      <td>527</td>\n",
       "      <td>0</td>\n",
       "      <td>95</td>\n",
       "      <td>2</td>\n",
       "      <td>1</td>\n",
       "      <td>no</td>\n",
       "      <td>0</td>\n",
       "    </tr>\n",
       "    <tr>\n",
       "      <th>34863</th>\n",
       "      <td>31</td>\n",
       "      <td>2</td>\n",
       "      <td>1</td>\n",
       "      <td>3</td>\n",
       "      <td>16000</td>\n",
       "      <td>2</td>\n",
       "      <td>2</td>\n",
       "      <td>10</td>\n",
       "      <td>0</td>\n",
       "      <td>0</td>\n",
       "      <td>...</td>\n",
       "      <td>0</td>\n",
       "      <td>5</td>\n",
       "      <td>8</td>\n",
       "      <td>333</td>\n",
       "      <td>0</td>\n",
       "      <td>-1</td>\n",
       "      <td>0</td>\n",
       "      <td>3</td>\n",
       "      <td>no</td>\n",
       "      <td>0</td>\n",
       "    </tr>\n",
       "    <tr>\n",
       "      <th>35260</th>\n",
       "      <td>39</td>\n",
       "      <td>2</td>\n",
       "      <td>1</td>\n",
       "      <td>4</td>\n",
       "      <td>100000</td>\n",
       "      <td>1</td>\n",
       "      <td>2</td>\n",
       "      <td>6</td>\n",
       "      <td>1</td>\n",
       "      <td>0</td>\n",
       "      <td>...</td>\n",
       "      <td>0</td>\n",
       "      <td>6</td>\n",
       "      <td>8</td>\n",
       "      <td>1134</td>\n",
       "      <td>0</td>\n",
       "      <td>170</td>\n",
       "      <td>1</td>\n",
       "      <td>0</td>\n",
       "      <td>no</td>\n",
       "      <td>0</td>\n",
       "    </tr>\n",
       "    <tr>\n",
       "      <th>...</th>\n",
       "      <td>...</td>\n",
       "      <td>...</td>\n",
       "      <td>...</td>\n",
       "      <td>...</td>\n",
       "      <td>...</td>\n",
       "      <td>...</td>\n",
       "      <td>...</td>\n",
       "      <td>...</td>\n",
       "      <td>...</td>\n",
       "      <td>...</td>\n",
       "      <td>...</td>\n",
       "      <td>...</td>\n",
       "      <td>...</td>\n",
       "      <td>...</td>\n",
       "      <td>...</td>\n",
       "      <td>...</td>\n",
       "      <td>...</td>\n",
       "      <td>...</td>\n",
       "      <td>...</td>\n",
       "      <td>...</td>\n",
       "      <td>...</td>\n",
       "    </tr>\n",
       "    <tr>\n",
       "      <th>19208</th>\n",
       "      <td>33</td>\n",
       "      <td>2</td>\n",
       "      <td>1</td>\n",
       "      <td>11</td>\n",
       "      <td>0</td>\n",
       "      <td>1</td>\n",
       "      <td>1</td>\n",
       "      <td>5</td>\n",
       "      <td>1</td>\n",
       "      <td>0</td>\n",
       "      <td>...</td>\n",
       "      <td>0</td>\n",
       "      <td>5</td>\n",
       "      <td>1</td>\n",
       "      <td>205</td>\n",
       "      <td>2</td>\n",
       "      <td>-1</td>\n",
       "      <td>0</td>\n",
       "      <td>3</td>\n",
       "      <td>no</td>\n",
       "      <td>0</td>\n",
       "    </tr>\n",
       "    <tr>\n",
       "      <th>170</th>\n",
       "      <td>35</td>\n",
       "      <td>2</td>\n",
       "      <td>1</td>\n",
       "      <td>1</td>\n",
       "      <td>20000</td>\n",
       "      <td>1</td>\n",
       "      <td>1</td>\n",
       "      <td>5</td>\n",
       "      <td>1</td>\n",
       "      <td>0</td>\n",
       "      <td>...</td>\n",
       "      <td>2</td>\n",
       "      <td>4</td>\n",
       "      <td>8</td>\n",
       "      <td>1050</td>\n",
       "      <td>0</td>\n",
       "      <td>-1</td>\n",
       "      <td>0</td>\n",
       "      <td>3</td>\n",
       "      <td>no</td>\n",
       "      <td>0</td>\n",
       "    </tr>\n",
       "    <tr>\n",
       "      <th>8641</th>\n",
       "      <td>42</td>\n",
       "      <td>3</td>\n",
       "      <td>1</td>\n",
       "      <td>1</td>\n",
       "      <td>20000</td>\n",
       "      <td>1</td>\n",
       "      <td>0</td>\n",
       "      <td>4</td>\n",
       "      <td>1</td>\n",
       "      <td>0</td>\n",
       "      <td>...</td>\n",
       "      <td>2</td>\n",
       "      <td>2</td>\n",
       "      <td>6</td>\n",
       "      <td>11</td>\n",
       "      <td>17</td>\n",
       "      <td>-1</td>\n",
       "      <td>0</td>\n",
       "      <td>3</td>\n",
       "      <td>no</td>\n",
       "      <td>0</td>\n",
       "    </tr>\n",
       "    <tr>\n",
       "      <th>25484</th>\n",
       "      <td>47</td>\n",
       "      <td>3</td>\n",
       "      <td>1</td>\n",
       "      <td>2</td>\n",
       "      <td>120000</td>\n",
       "      <td>0</td>\n",
       "      <td>1</td>\n",
       "      <td>1</td>\n",
       "      <td>1</td>\n",
       "      <td>0</td>\n",
       "      <td>...</td>\n",
       "      <td>0</td>\n",
       "      <td>18</td>\n",
       "      <td>9</td>\n",
       "      <td>125</td>\n",
       "      <td>0</td>\n",
       "      <td>-1</td>\n",
       "      <td>0</td>\n",
       "      <td>3</td>\n",
       "      <td>no</td>\n",
       "      <td>0</td>\n",
       "    </tr>\n",
       "    <tr>\n",
       "      <th>8786</th>\n",
       "      <td>25</td>\n",
       "      <td>1</td>\n",
       "      <td>1</td>\n",
       "      <td>1</td>\n",
       "      <td>20000</td>\n",
       "      <td>2</td>\n",
       "      <td>1</td>\n",
       "      <td>9</td>\n",
       "      <td>1</td>\n",
       "      <td>0</td>\n",
       "      <td>...</td>\n",
       "      <td>2</td>\n",
       "      <td>3</td>\n",
       "      <td>6</td>\n",
       "      <td>605</td>\n",
       "      <td>0</td>\n",
       "      <td>-1</td>\n",
       "      <td>0</td>\n",
       "      <td>3</td>\n",
       "      <td>no</td>\n",
       "      <td>0</td>\n",
       "    </tr>\n",
       "  </tbody>\n",
       "</table>\n",
       "<p>36168 rows × 23 columns</p>\n",
       "</div>"
      ],
      "text/plain": [
       "       age  age group  eligible  job  salary  marital  education  \\\n",
       "13977   37          2         1    7   70000        2          1   \n",
       "16392   56          4         1    7   70000        0          1   \n",
       "27349   40          3         1    4  100000        1          1   \n",
       "34863   31          2         1    3   16000        2          2   \n",
       "35260   39          2         1    4  100000        1          2   \n",
       "...    ...        ...       ...  ...     ...      ...        ...   \n",
       "19208   33          2         1   11       0        1          1   \n",
       "170     35          2         1    1   20000        1          1   \n",
       "8641    42          3         1    1   20000        1          0   \n",
       "25484   47          3         1    2  120000        0          1   \n",
       "8786    25          1         1    1   20000        2          1   \n",
       "\n",
       "       marital-education  targeted  default  ...  contact  day  month  \\\n",
       "13977                  9         1        0  ...        0    9      5   \n",
       "16392                  1         1        0  ...        0   22      5   \n",
       "27349                  5         1        0  ...        0   20      9   \n",
       "34863                 10         0        0  ...        0    5      8   \n",
       "35260                  6         1        0  ...        0    6      8   \n",
       "...                  ...       ...      ...  ...      ...  ...    ...   \n",
       "19208                  5         1        0  ...        0    5      1   \n",
       "170                    5         1        0  ...        2    4      8   \n",
       "8641                   4         1        0  ...        2    2      6   \n",
       "25484                  1         1        0  ...        0   18      9   \n",
       "8786                   9         1        0  ...        2    3      6   \n",
       "\n",
       "       duration  campaign  pdays  previous  poutcome   y  response  \n",
       "13977       118         0     -1         0         3  no         0  \n",
       "16392       335         2     -1         0         3  no         0  \n",
       "27349       527         0     95         2         1  no         0  \n",
       "34863       333         0     -1         0         3  no         0  \n",
       "35260      1134         0    170         1         0  no         0  \n",
       "...         ...       ...    ...       ...       ...  ..       ...  \n",
       "19208       205         2     -1         0         3  no         0  \n",
       "170        1050         0     -1         0         3  no         0  \n",
       "8641         11        17     -1         0         3  no         0  \n",
       "25484       125         0     -1         0         3  no         0  \n",
       "8786        605         0     -1         0         3  no         0  \n",
       "\n",
       "[36168 rows x 23 columns]"
      ]
     },
     "execution_count": 38,
     "metadata": {},
     "output_type": "execute_result"
    }
   ],
   "source": [
    "train.head(36168)"
   ]
  },
  {
   "cell_type": "code",
   "execution_count": 55,
   "id": "4e8b4bc2",
   "metadata": {},
   "outputs": [],
   "source": [
    "test_accuracy = []\n",
    "train_accuracy = []\n",
    "for i in train_sizes:\n",
    "    train_data_subset = train.head(i)\n",
    "    classifier  = DecisionTreeClassifier(random_state=0, ccp_alpha=max_score_alpha)\n",
    "    classifier.fit(train_data_subset[cols], train_data_subset[target])\n",
    "    #print(accuracy_score(train_data_subset[target], classifier.predict(train_data_subset[cols])))\n",
    "    train_accuracy.append(accuracy_score(train_data_subset[target], classifier.predict(train_data_subset[cols])))\n",
    "    test_accuracy.append(accuracy_score(test[target], classifier.predict(test[cols])))\n",
    "\n",
    "    \n",
    "plt.plot(train_sizes, train_accuracy, '--', color=\"b\",  label=\"Training score\")\n",
    "plt.plot(train_sizes, test_accuracy, color=\"g\", label=\"Test Accuracy\")"
   ]
  },
  {
   "cell_type": "markdown",
   "id": "be2ff05a",
   "metadata": {},
   "source": [
    "## Neural Network\n",
    "https://scikit-learn.org/stable/modules/neural_networks_supervised.html"
   ]
  },
  {
   "cell_type": "code",
   "execution_count": 58,
   "id": "4be2044d",
   "metadata": {},
   "outputs": [
    {
     "name": "stderr",
     "output_type": "stream",
     "text": [
      "/Users/nicole/Library/Python/3.9/lib/python/site-packages/sklearn/neural_network/_multilayer_perceptron.py:500: ConvergenceWarning: lbfgs failed to converge (status=2):\n",
      "ABNORMAL_TERMINATION_IN_LNSRCH.\n",
      "\n",
      "Increase the number of iterations (max_iter) or scale the data as shown in:\n",
      "    https://scikit-learn.org/stable/modules/preprocessing.html\n",
      "  self.n_iter_ = _check_optimize_result(\"lbfgs\", opt_res, self.max_iter)\n"
     ]
    }
   ],
   "source": [
    "start_time = time.time()\n",
    "nn = MLPClassifier(solver='lbfgs', alpha=1e-5,\n",
    "                    hidden_layer_sizes=(5, 2), random_state=1)\n",
    "\n",
    "nn.fit(train[cols], train[target])\n",
    "nn_runtime = time.time() - start_time \n",
    "\n",
    "nn_training_error = 1 - accuracy_score(train[target], nn.predict(train[cols]))\n",
    "nn_error = 1 - accuracy_score(test[target], nn.predict(test[cols]))\n",
    "\n",
    "nn_row = pd.DataFrame(['Neural Network', nn_training_error, nn_error, nn_runtime] ).T"
   ]
  },
  {
   "cell_type": "code",
   "execution_count": 60,
   "id": "e642b252",
   "metadata": {
    "scrolled": true
   },
   "outputs": [
    {
     "name": "stderr",
     "output_type": "stream",
     "text": [
      "/Users/nicole/Library/Python/3.9/lib/python/site-packages/sklearn/neural_network/_multilayer_perceptron.py:500: ConvergenceWarning: lbfgs failed to converge (status=2):\n",
      "ABNORMAL_TERMINATION_IN_LNSRCH.\n",
      "\n",
      "Increase the number of iterations (max_iter) or scale the data as shown in:\n",
      "    https://scikit-learn.org/stable/modules/preprocessing.html\n",
      "  self.n_iter_ = _check_optimize_result(\"lbfgs\", opt_res, self.max_iter)\n",
      "/Users/nicole/Library/Python/3.9/lib/python/site-packages/sklearn/neural_network/_multilayer_perceptron.py:500: ConvergenceWarning: lbfgs failed to converge (status=2):\n",
      "ABNORMAL_TERMINATION_IN_LNSRCH.\n",
      "\n",
      "Increase the number of iterations (max_iter) or scale the data as shown in:\n",
      "    https://scikit-learn.org/stable/modules/preprocessing.html\n",
      "  self.n_iter_ = _check_optimize_result(\"lbfgs\", opt_res, self.max_iter)\n",
      "/Users/nicole/Library/Python/3.9/lib/python/site-packages/sklearn/neural_network/_multilayer_perceptron.py:500: ConvergenceWarning: lbfgs failed to converge (status=2):\n",
      "ABNORMAL_TERMINATION_IN_LNSRCH.\n",
      "\n",
      "Increase the number of iterations (max_iter) or scale the data as shown in:\n",
      "    https://scikit-learn.org/stable/modules/preprocessing.html\n",
      "  self.n_iter_ = _check_optimize_result(\"lbfgs\", opt_res, self.max_iter)\n",
      "/Users/nicole/Library/Python/3.9/lib/python/site-packages/sklearn/neural_network/_multilayer_perceptron.py:500: ConvergenceWarning: lbfgs failed to converge (status=2):\n",
      "ABNORMAL_TERMINATION_IN_LNSRCH.\n",
      "\n",
      "Increase the number of iterations (max_iter) or scale the data as shown in:\n",
      "    https://scikit-learn.org/stable/modules/preprocessing.html\n",
      "  self.n_iter_ = _check_optimize_result(\"lbfgs\", opt_res, self.max_iter)\n",
      "/Users/nicole/Library/Python/3.9/lib/python/site-packages/sklearn/neural_network/_multilayer_perceptron.py:500: ConvergenceWarning: lbfgs failed to converge (status=2):\n",
      "ABNORMAL_TERMINATION_IN_LNSRCH.\n",
      "\n",
      "Increase the number of iterations (max_iter) or scale the data as shown in:\n",
      "    https://scikit-learn.org/stable/modules/preprocessing.html\n",
      "  self.n_iter_ = _check_optimize_result(\"lbfgs\", opt_res, self.max_iter)\n",
      "/Users/nicole/Library/Python/3.9/lib/python/site-packages/sklearn/neural_network/_multilayer_perceptron.py:500: ConvergenceWarning: lbfgs failed to converge (status=2):\n",
      "ABNORMAL_TERMINATION_IN_LNSRCH.\n",
      "\n",
      "Increase the number of iterations (max_iter) or scale the data as shown in:\n",
      "    https://scikit-learn.org/stable/modules/preprocessing.html\n",
      "  self.n_iter_ = _check_optimize_result(\"lbfgs\", opt_res, self.max_iter)\n",
      "/Users/nicole/Library/Python/3.9/lib/python/site-packages/sklearn/neural_network/_multilayer_perceptron.py:500: ConvergenceWarning: lbfgs failed to converge (status=2):\n",
      "ABNORMAL_TERMINATION_IN_LNSRCH.\n",
      "\n",
      "Increase the number of iterations (max_iter) or scale the data as shown in:\n",
      "    https://scikit-learn.org/stable/modules/preprocessing.html\n",
      "  self.n_iter_ = _check_optimize_result(\"lbfgs\", opt_res, self.max_iter)\n",
      "/Users/nicole/Library/Python/3.9/lib/python/site-packages/sklearn/neural_network/_multilayer_perceptron.py:500: ConvergenceWarning: lbfgs failed to converge (status=2):\n",
      "ABNORMAL_TERMINATION_IN_LNSRCH.\n",
      "\n",
      "Increase the number of iterations (max_iter) or scale the data as shown in:\n",
      "    https://scikit-learn.org/stable/modules/preprocessing.html\n",
      "  self.n_iter_ = _check_optimize_result(\"lbfgs\", opt_res, self.max_iter)\n",
      "/Users/nicole/Library/Python/3.9/lib/python/site-packages/sklearn/neural_network/_multilayer_perceptron.py:500: ConvergenceWarning: lbfgs failed to converge (status=2):\n",
      "ABNORMAL_TERMINATION_IN_LNSRCH.\n",
      "\n",
      "Increase the number of iterations (max_iter) or scale the data as shown in:\n",
      "    https://scikit-learn.org/stable/modules/preprocessing.html\n",
      "  self.n_iter_ = _check_optimize_result(\"lbfgs\", opt_res, self.max_iter)\n",
      "/Users/nicole/Library/Python/3.9/lib/python/site-packages/sklearn/neural_network/_multilayer_perceptron.py:500: ConvergenceWarning: lbfgs failed to converge (status=2):\n",
      "ABNORMAL_TERMINATION_IN_LNSRCH.\n",
      "\n",
      "Increase the number of iterations (max_iter) or scale the data as shown in:\n",
      "    https://scikit-learn.org/stable/modules/preprocessing.html\n",
      "  self.n_iter_ = _check_optimize_result(\"lbfgs\", opt_res, self.max_iter)\n",
      "/Users/nicole/Library/Python/3.9/lib/python/site-packages/sklearn/neural_network/_multilayer_perceptron.py:500: ConvergenceWarning: lbfgs failed to converge (status=2):\n",
      "ABNORMAL_TERMINATION_IN_LNSRCH.\n",
      "\n",
      "Increase the number of iterations (max_iter) or scale the data as shown in:\n",
      "    https://scikit-learn.org/stable/modules/preprocessing.html\n",
      "  self.n_iter_ = _check_optimize_result(\"lbfgs\", opt_res, self.max_iter)\n",
      "/Users/nicole/Library/Python/3.9/lib/python/site-packages/sklearn/neural_network/_multilayer_perceptron.py:500: ConvergenceWarning: lbfgs failed to converge (status=2):\n",
      "ABNORMAL_TERMINATION_IN_LNSRCH.\n",
      "\n",
      "Increase the number of iterations (max_iter) or scale the data as shown in:\n",
      "    https://scikit-learn.org/stable/modules/preprocessing.html\n",
      "  self.n_iter_ = _check_optimize_result(\"lbfgs\", opt_res, self.max_iter)\n",
      "/Users/nicole/Library/Python/3.9/lib/python/site-packages/sklearn/neural_network/_multilayer_perceptron.py:500: ConvergenceWarning: lbfgs failed to converge (status=2):\n",
      "ABNORMAL_TERMINATION_IN_LNSRCH.\n",
      "\n",
      "Increase the number of iterations (max_iter) or scale the data as shown in:\n",
      "    https://scikit-learn.org/stable/modules/preprocessing.html\n",
      "  self.n_iter_ = _check_optimize_result(\"lbfgs\", opt_res, self.max_iter)\n",
      "/Users/nicole/Library/Python/3.9/lib/python/site-packages/sklearn/neural_network/_multilayer_perceptron.py:500: ConvergenceWarning: lbfgs failed to converge (status=2):\n",
      "ABNORMAL_TERMINATION_IN_LNSRCH.\n",
      "\n",
      "Increase the number of iterations (max_iter) or scale the data as shown in:\n",
      "    https://scikit-learn.org/stable/modules/preprocessing.html\n",
      "  self.n_iter_ = _check_optimize_result(\"lbfgs\", opt_res, self.max_iter)\n",
      "/Users/nicole/Library/Python/3.9/lib/python/site-packages/sklearn/neural_network/_multilayer_perceptron.py:500: ConvergenceWarning: lbfgs failed to converge (status=2):\n",
      "ABNORMAL_TERMINATION_IN_LNSRCH.\n",
      "\n",
      "Increase the number of iterations (max_iter) or scale the data as shown in:\n",
      "    https://scikit-learn.org/stable/modules/preprocessing.html\n",
      "  self.n_iter_ = _check_optimize_result(\"lbfgs\", opt_res, self.max_iter)\n",
      "/Users/nicole/Library/Python/3.9/lib/python/site-packages/sklearn/neural_network/_multilayer_perceptron.py:500: ConvergenceWarning: lbfgs failed to converge (status=2):\n",
      "ABNORMAL_TERMINATION_IN_LNSRCH.\n",
      "\n",
      "Increase the number of iterations (max_iter) or scale the data as shown in:\n",
      "    https://scikit-learn.org/stable/modules/preprocessing.html\n",
      "  self.n_iter_ = _check_optimize_result(\"lbfgs\", opt_res, self.max_iter)\n",
      "/Users/nicole/Library/Python/3.9/lib/python/site-packages/sklearn/neural_network/_multilayer_perceptron.py:500: ConvergenceWarning: lbfgs failed to converge (status=2):\n",
      "ABNORMAL_TERMINATION_IN_LNSRCH.\n",
      "\n",
      "Increase the number of iterations (max_iter) or scale the data as shown in:\n",
      "    https://scikit-learn.org/stable/modules/preprocessing.html\n",
      "  self.n_iter_ = _check_optimize_result(\"lbfgs\", opt_res, self.max_iter)\n",
      "/Users/nicole/Library/Python/3.9/lib/python/site-packages/sklearn/neural_network/_multilayer_perceptron.py:500: ConvergenceWarning: lbfgs failed to converge (status=2):\n",
      "ABNORMAL_TERMINATION_IN_LNSRCH.\n",
      "\n",
      "Increase the number of iterations (max_iter) or scale the data as shown in:\n",
      "    https://scikit-learn.org/stable/modules/preprocessing.html\n",
      "  self.n_iter_ = _check_optimize_result(\"lbfgs\", opt_res, self.max_iter)\n",
      "/Users/nicole/Library/Python/3.9/lib/python/site-packages/sklearn/neural_network/_multilayer_perceptron.py:500: ConvergenceWarning: lbfgs failed to converge (status=2):\n",
      "ABNORMAL_TERMINATION_IN_LNSRCH.\n",
      "\n",
      "Increase the number of iterations (max_iter) or scale the data as shown in:\n",
      "    https://scikit-learn.org/stable/modules/preprocessing.html\n",
      "  self.n_iter_ = _check_optimize_result(\"lbfgs\", opt_res, self.max_iter)\n",
      "/Users/nicole/Library/Python/3.9/lib/python/site-packages/sklearn/neural_network/_multilayer_perceptron.py:500: ConvergenceWarning: lbfgs failed to converge (status=2):\n",
      "ABNORMAL_TERMINATION_IN_LNSRCH.\n",
      "\n",
      "Increase the number of iterations (max_iter) or scale the data as shown in:\n",
      "    https://scikit-learn.org/stable/modules/preprocessing.html\n",
      "  self.n_iter_ = _check_optimize_result(\"lbfgs\", opt_res, self.max_iter)\n"
     ]
    },
    {
     "name": "stderr",
     "output_type": "stream",
     "text": [
      "/Users/nicole/Library/Python/3.9/lib/python/site-packages/sklearn/neural_network/_multilayer_perceptron.py:500: ConvergenceWarning: lbfgs failed to converge (status=2):\n",
      "ABNORMAL_TERMINATION_IN_LNSRCH.\n",
      "\n",
      "Increase the number of iterations (max_iter) or scale the data as shown in:\n",
      "    https://scikit-learn.org/stable/modules/preprocessing.html\n",
      "  self.n_iter_ = _check_optimize_result(\"lbfgs\", opt_res, self.max_iter)\n",
      "/Users/nicole/Library/Python/3.9/lib/python/site-packages/sklearn/neural_network/_multilayer_perceptron.py:500: ConvergenceWarning: lbfgs failed to converge (status=2):\n",
      "ABNORMAL_TERMINATION_IN_LNSRCH.\n",
      "\n",
      "Increase the number of iterations (max_iter) or scale the data as shown in:\n",
      "    https://scikit-learn.org/stable/modules/preprocessing.html\n",
      "  self.n_iter_ = _check_optimize_result(\"lbfgs\", opt_res, self.max_iter)\n",
      "/Users/nicole/Library/Python/3.9/lib/python/site-packages/sklearn/neural_network/_multilayer_perceptron.py:500: ConvergenceWarning: lbfgs failed to converge (status=2):\n",
      "ABNORMAL_TERMINATION_IN_LNSRCH.\n",
      "\n",
      "Increase the number of iterations (max_iter) or scale the data as shown in:\n",
      "    https://scikit-learn.org/stable/modules/preprocessing.html\n",
      "  self.n_iter_ = _check_optimize_result(\"lbfgs\", opt_res, self.max_iter)\n",
      "/Users/nicole/Library/Python/3.9/lib/python/site-packages/sklearn/neural_network/_multilayer_perceptron.py:500: ConvergenceWarning: lbfgs failed to converge (status=2):\n",
      "ABNORMAL_TERMINATION_IN_LNSRCH.\n",
      "\n",
      "Increase the number of iterations (max_iter) or scale the data as shown in:\n",
      "    https://scikit-learn.org/stable/modules/preprocessing.html\n",
      "  self.n_iter_ = _check_optimize_result(\"lbfgs\", opt_res, self.max_iter)\n",
      "/Users/nicole/Library/Python/3.9/lib/python/site-packages/sklearn/neural_network/_multilayer_perceptron.py:500: ConvergenceWarning: lbfgs failed to converge (status=2):\n",
      "ABNORMAL_TERMINATION_IN_LNSRCH.\n",
      "\n",
      "Increase the number of iterations (max_iter) or scale the data as shown in:\n",
      "    https://scikit-learn.org/stable/modules/preprocessing.html\n",
      "  self.n_iter_ = _check_optimize_result(\"lbfgs\", opt_res, self.max_iter)\n"
     ]
    },
    {
     "data": {
      "text/plain": [
       "[<matplotlib.lines.Line2D at 0x7f82ac5179d0>]"
      ]
     },
     "execution_count": 60,
     "metadata": {},
     "output_type": "execute_result"
    },
    {
     "data": {
      "image/png": "[encoded data removed]",
      "text/plain": [
       "<Figure size 432x288 with 1 Axes>"
      ]
     },
     "metadata": {},
     "output_type": "display_data"
    }
   ],
   "source": [
    "test_accuracy = []\n",
    "train_accuracy = []\n",
    "for i in train_sizes:\n",
    "    train_data_subset = train.head(i)\n",
    "    classifier  = MLPClassifier(solver='lbfgs', alpha=1e-5,\n",
    "                    hidden_layer_sizes=(5, 2), random_state=1)\n",
    "    classifier.fit(train_data_subset[cols], train_data_subset[target])\n",
    "    #print(accuracy_score(train_data_subset[target], classifier.predict(train_data_subset[cols])))\n",
    "    train_accuracy.append(accuracy_score(train_data_subset[target], classifier.predict(train_data_subset[cols])))\n",
    "    test_accuracy.append(accuracy_score(test[target], classifier.predict(test[cols])))\n",
    "\n",
    "    \n",
    "plt.plot(train_sizes, train_accuracy, '--', color=\"b\",  label=\"Training score\")\n",
    "plt.plot(train_sizes, test_accuracy, color=\"g\", label=\"Test Accuracy\")"
   ]
  },
  {
   "cell_type": "code",
   "execution_count": null,
   "id": "a85592bb",
   "metadata": {},
   "outputs": [],
   "source": [
    "test_accuracy = []\n",
    "train_accuracy = []\n",
    "for i in train_sizes:\n",
    "    train_data_subset = train.head(i)\n",
    "    classifier  = MLPClassifier(solver='lbfgs', alpha=1e-5,\n",
    "                    hidden_layer_sizes=(5, 2), random_state=1)\n",
    "    classifier.fit(train_data_subset[cols], train_data_subset[target])\n",
    "    #print(accuracy_score(train_data_subset[target], classifier.predict(train_data_subset[cols])))\n",
    "    train_accuracy.append(accuracy_score(train_data_subset[target], classifier.predict(train_data_subset[cols])))\n",
    "    test_accuracy.append(accuracy_score(test[target], classifier.predict(test[cols])))\n",
    "\n",
    "    \n",
    "plt.plot(train_sizes, train_accuracy, '--', color=\"b\",  label=\"Training score\")\n",
    "plt.plot(train_sizes, test_accuracy, color=\"g\", label=\"Test Accuracy\")"
   ]
  },
  {
   "cell_type": "markdown",
   "id": "b9109f17",
   "metadata": {},
   "source": [
    "## Boosting \n",
    "https://scikit-learn.org/stable/modules/generated/sklearn.ensemble.AdaBoostClassifier.html#:~:text=An%20AdaBoost%20%5B1%5D%20classifier%20is,focus%20more%20on%20difficult%20cases."
   ]
  },
  {
   "cell_type": "code",
   "execution_count": 61,
   "id": "6bafc14a",
   "metadata": {},
   "outputs": [],
   "source": [
    "start_time = time.time()\n",
    "\n",
    "ada = AdaBoostClassifier(n_estimators=100, random_state=0)\n",
    "ada.fit(train[cols], train[target])\n",
    "ada_runtime = time.time() - start_time \n",
    "\n",
    "ada_training_error = 1 - accuracy_score(train[target], ada.predict(train[cols]))\n",
    "ada_error = 1 - accuracy_score(test[target], ada.predict(test[cols]))\n",
    "\n",
    "ada_row = pd.DataFrame(['Ada Boost', ada_training_error, ada_error, ada_runtime] ).T"
   ]
  },
  {
   "cell_type": "code",
   "execution_count": 62,
   "id": "79a37f1d",
   "metadata": {},
   "outputs": [
    {
     "data": {
      "text/plain": [
       "[<matplotlib.lines.Line2D at 0x7f82905967c0>]"
      ]
     },
     "execution_count": 62,
     "metadata": {},
     "output_type": "execute_result"
    },
    {
     "data": {
      "image/png": "[encoded data removed]",
      "text/plain": [
       "<Figure size 432x288 with 1 Axes>"
      ]
     },
     "metadata": {},
     "output_type": "display_data"
    }
   ],
   "source": [
    "test_accuracy = []\n",
    "train_accuracy = []\n",
    "for i in train_sizes:\n",
    "    train_data_subset = train.head(i)\n",
    "    classifier  = AdaBoostClassifier(n_estimators=100, random_state=0)\n",
    "    classifier.fit(train_data_subset[cols], train_data_subset[target])\n",
    "    #print(accuracy_score(train_data_subset[target], classifier.predict(train_data_subset[cols])))\n",
    "    train_accuracy.append(accuracy_score(train_data_subset[target], classifier.predict(train_data_subset[cols])))\n",
    "    test_accuracy.append(accuracy_score(test[target], classifier.predict(test[cols])))\n",
    "\n",
    "    \n",
    "plt.plot(train_sizes, train_accuracy, '--', color=\"b\",  label=\"Training score\")\n",
    "plt.plot(train_sizes, test_accuracy, color=\"g\", label=\"Test Accuracy\")"
   ]
  },
  {
   "cell_type": "markdown",
   "id": "958785d3",
   "metadata": {},
   "source": [
    "## Support Vector Machines \n",
    "https://scikit-learn.org/stable/modules/generated/sklearn.svm.SVC.html\n",
    "\n",
    "https://scikit-learn.org/stable/auto_examples/classification/plot_digits_classification.html#sphx-glr-auto-examples-classification-plot-digits-classification-py"
   ]
  },
  {
   "cell_type": "code",
   "execution_count": 63,
   "id": "db2e2aaf",
   "metadata": {},
   "outputs": [],
   "source": [
    "start_time = time.time()\n",
    "\n",
    "clf = make_pipeline(StandardScaler(), SVC(gamma='auto'))\n",
    "clf.fit(train[cols], train[target])\n",
    "clf_runtime = time.time() - start_time \n",
    "\n",
    "clf_training_error = 1 - accuracy_score(train[target], clf.predict(train[cols]))\n",
    "clf_error = 1 - accuracy_score(test[target], clf.predict(test[cols]))\n",
    "\n",
    "clf_row = pd.DataFrame(['Support Vector Machine', clf_training_error, clf_error, clf_runtime] ).T"
   ]
  },
  {
   "cell_type": "code",
   "execution_count": 64,
   "id": "7c0de437",
   "metadata": {},
   "outputs": [
    {
     "data": {
      "text/html": [
       "<div>\n",
       "<style scoped>\n",
       "    .dataframe tbody tr th:only-of-type {\n",
       "        vertical-align: middle;\n",
       "    }\n",
       "\n",
       "    .dataframe tbody tr th {\n",
       "        vertical-align: top;\n",
       "    }\n",
       "\n",
       "    .dataframe thead th {\n",
       "        text-align: right;\n",
       "    }\n",
       "</style>\n",
       "<table border=\"1\" class=\"dataframe\">\n",
       "  <thead>\n",
       "    <tr style=\"text-align: right;\">\n",
       "      <th></th>\n",
       "      <th>0</th>\n",
       "      <th>1</th>\n",
       "      <th>2</th>\n",
       "      <th>3</th>\n",
       "    </tr>\n",
       "  </thead>\n",
       "  <tbody>\n",
       "    <tr>\n",
       "      <th>0</th>\n",
       "      <td>Support Vector Machine</td>\n",
       "      <td>0.091047</td>\n",
       "      <td>0.104943</td>\n",
       "      <td>19.491668</td>\n",
       "    </tr>\n",
       "  </tbody>\n",
       "</table>\n",
       "</div>"
      ],
      "text/plain": [
       "                        0         1         2          3\n",
       "0  Support Vector Machine  0.091047  0.104943  19.491668"
      ]
     },
     "execution_count": 64,
     "metadata": {},
     "output_type": "execute_result"
    }
   ],
   "source": [
    "clf_row \n",
    "#Cross validation doesn't make sense hear "
   ]
  },
  {
   "cell_type": "code",
   "execution_count": 68,
   "id": "29674ac9",
   "metadata": {},
   "outputs": [
    {
     "ename": "KeyboardInterrupt",
     "evalue": "",
     "output_type": "error",
     "traceback": [
      "\u001b[0;31m---------------------------------------------------------------------------\u001b[0m",
      "\u001b[0;31mKeyboardInterrupt\u001b[0m                         Traceback (most recent call last)",
      "\u001b[0;32m/var/folders/p9/lr4kfdlj1ngdv2v65vk5l1d80000gn/T/ipykernel_88269/736592498.py\u001b[0m in \u001b[0;36m<module>\u001b[0;34m\u001b[0m\n\u001b[1;32m      7\u001b[0m         \u001b[0mclassifier\u001b[0m\u001b[0;34m.\u001b[0m\u001b[0mfit\u001b[0m\u001b[0;34m(\u001b[0m\u001b[0mtrain_data_subset\u001b[0m\u001b[0;34m[\u001b[0m\u001b[0mcols\u001b[0m\u001b[0;34m]\u001b[0m\u001b[0;34m,\u001b[0m \u001b[0mtrain_data_subset\u001b[0m\u001b[0;34m[\u001b[0m\u001b[0mtarget\u001b[0m\u001b[0;34m]\u001b[0m\u001b[0;34m)\u001b[0m\u001b[0;34m\u001b[0m\u001b[0;34m\u001b[0m\u001b[0m\n\u001b[1;32m      8\u001b[0m         \u001b[0;31m#print(accuracy_score(train_data_subset[target], classifier.predict(train_data_subset[cols])))\u001b[0m\u001b[0;34m\u001b[0m\u001b[0;34m\u001b[0m\u001b[0;34m\u001b[0m\u001b[0m\n\u001b[0;32m----> 9\u001b[0;31m         \u001b[0mtrain_accuracy\u001b[0m\u001b[0;34m.\u001b[0m\u001b[0mappend\u001b[0m\u001b[0;34m(\u001b[0m\u001b[0maccuracy_score\u001b[0m\u001b[0;34m(\u001b[0m\u001b[0mtrain_data_subset\u001b[0m\u001b[0;34m[\u001b[0m\u001b[0mtarget\u001b[0m\u001b[0;34m]\u001b[0m\u001b[0;34m,\u001b[0m \u001b[0mclassifier\u001b[0m\u001b[0;34m.\u001b[0m\u001b[0mpredict\u001b[0m\u001b[0;34m(\u001b[0m\u001b[0mtrain_data_subset\u001b[0m\u001b[0;34m[\u001b[0m\u001b[0mcols\u001b[0m\u001b[0;34m]\u001b[0m\u001b[0;34m)\u001b[0m\u001b[0;34m)\u001b[0m\u001b[0;34m)\u001b[0m\u001b[0;34m\u001b[0m\u001b[0;34m\u001b[0m\u001b[0m\n\u001b[0m\u001b[1;32m     10\u001b[0m         \u001b[0mtest_accuracy\u001b[0m\u001b[0;34m.\u001b[0m\u001b[0mappend\u001b[0m\u001b[0;34m(\u001b[0m\u001b[0maccuracy_score\u001b[0m\u001b[0;34m(\u001b[0m\u001b[0mtest\u001b[0m\u001b[0;34m[\u001b[0m\u001b[0mtarget\u001b[0m\u001b[0;34m]\u001b[0m\u001b[0;34m,\u001b[0m \u001b[0mclassifier\u001b[0m\u001b[0;34m.\u001b[0m\u001b[0mpredict\u001b[0m\u001b[0;34m(\u001b[0m\u001b[0mtest\u001b[0m\u001b[0;34m[\u001b[0m\u001b[0mcols\u001b[0m\u001b[0;34m]\u001b[0m\u001b[0;34m)\u001b[0m\u001b[0;34m)\u001b[0m\u001b[0;34m)\u001b[0m\u001b[0;34m\u001b[0m\u001b[0;34m\u001b[0m\u001b[0m\n\u001b[1;32m     11\u001b[0m \u001b[0;34m\u001b[0m\u001b[0m\n",
      "\u001b[0;32m~/Library/Python/3.9/lib/python/site-packages/sklearn/utils/metaestimators.py\u001b[0m in \u001b[0;36m<lambda>\u001b[0;34m(*args, **kwargs)\u001b[0m\n\u001b[1;32m    118\u001b[0m \u001b[0;34m\u001b[0m\u001b[0m\n\u001b[1;32m    119\u001b[0m         \u001b[0;31m# lambda, but not partial, allows help() to work with update_wrapper\u001b[0m\u001b[0;34m\u001b[0m\u001b[0;34m\u001b[0m\u001b[0;34m\u001b[0m\u001b[0m\n\u001b[0;32m--> 120\u001b[0;31m         \u001b[0mout\u001b[0m \u001b[0;34m=\u001b[0m \u001b[0;32mlambda\u001b[0m \u001b[0;34m*\u001b[0m\u001b[0margs\u001b[0m\u001b[0;34m,\u001b[0m \u001b[0;34m**\u001b[0m\u001b[0mkwargs\u001b[0m\u001b[0;34m:\u001b[0m \u001b[0mself\u001b[0m\u001b[0;34m.\u001b[0m\u001b[0mfn\u001b[0m\u001b[0;34m(\u001b[0m\u001b[0mobj\u001b[0m\u001b[0;34m,\u001b[0m \u001b[0;34m*\u001b[0m\u001b[0margs\u001b[0m\u001b[0;34m,\u001b[0m \u001b[0;34m**\u001b[0m\u001b[0mkwargs\u001b[0m\u001b[0;34m)\u001b[0m\u001b[0;34m\u001b[0m\u001b[0;34m\u001b[0m\u001b[0m\n\u001b[0m\u001b[1;32m    121\u001b[0m         \u001b[0;31m# update the docstring of the returned function\u001b[0m\u001b[0;34m\u001b[0m\u001b[0;34m\u001b[0m\u001b[0;34m\u001b[0m\u001b[0m\n\u001b[1;32m    122\u001b[0m         \u001b[0mupdate_wrapper\u001b[0m\u001b[0;34m(\u001b[0m\u001b[0mout\u001b[0m\u001b[0;34m,\u001b[0m \u001b[0mself\u001b[0m\u001b[0;34m.\u001b[0m\u001b[0mfn\u001b[0m\u001b[0;34m)\u001b[0m\u001b[0;34m\u001b[0m\u001b[0;34m\u001b[0m\u001b[0m\n",
      "\u001b[0;32m~/Library/Python/3.9/lib/python/site-packages/sklearn/pipeline.py\u001b[0m in \u001b[0;36mpredict\u001b[0;34m(self, X, **predict_params)\u001b[0m\n\u001b[1;32m    417\u001b[0m         \u001b[0;32mfor\u001b[0m \u001b[0m_\u001b[0m\u001b[0;34m,\u001b[0m \u001b[0mname\u001b[0m\u001b[0;34m,\u001b[0m \u001b[0mtransform\u001b[0m \u001b[0;32min\u001b[0m \u001b[0mself\u001b[0m\u001b[0;34m.\u001b[0m\u001b[0m_iter\u001b[0m\u001b[0;34m(\u001b[0m\u001b[0mwith_final\u001b[0m\u001b[0;34m=\u001b[0m\u001b[0;32mFalse\u001b[0m\u001b[0;34m)\u001b[0m\u001b[0;34m:\u001b[0m\u001b[0;34m\u001b[0m\u001b[0;34m\u001b[0m\u001b[0m\n\u001b[1;32m    418\u001b[0m             \u001b[0mXt\u001b[0m \u001b[0;34m=\u001b[0m \u001b[0mtransform\u001b[0m\u001b[0;34m.\u001b[0m\u001b[0mtransform\u001b[0m\u001b[0;34m(\u001b[0m\u001b[0mXt\u001b[0m\u001b[0;34m)\u001b[0m\u001b[0;34m\u001b[0m\u001b[0;34m\u001b[0m\u001b[0m\n\u001b[0;32m--> 419\u001b[0;31m         \u001b[0;32mreturn\u001b[0m \u001b[0mself\u001b[0m\u001b[0;34m.\u001b[0m\u001b[0msteps\u001b[0m\u001b[0;34m[\u001b[0m\u001b[0;34m-\u001b[0m\u001b[0;36m1\u001b[0m\u001b[0;34m]\u001b[0m\u001b[0;34m[\u001b[0m\u001b[0;34m-\u001b[0m\u001b[0;36m1\u001b[0m\u001b[0;34m]\u001b[0m\u001b[0;34m.\u001b[0m\u001b[0mpredict\u001b[0m\u001b[0;34m(\u001b[0m\u001b[0mXt\u001b[0m\u001b[0;34m,\u001b[0m \u001b[0;34m**\u001b[0m\u001b[0mpredict_params\u001b[0m\u001b[0;34m)\u001b[0m\u001b[0;34m\u001b[0m\u001b[0;34m\u001b[0m\u001b[0m\n\u001b[0m\u001b[1;32m    420\u001b[0m \u001b[0;34m\u001b[0m\u001b[0m\n\u001b[1;32m    421\u001b[0m     \u001b[0;34m@\u001b[0m\u001b[0mif_delegate_has_method\u001b[0m\u001b[0;34m(\u001b[0m\u001b[0mdelegate\u001b[0m\u001b[0;34m=\u001b[0m\u001b[0;34m'_final_estimator'\u001b[0m\u001b[0;34m)\u001b[0m\u001b[0;34m\u001b[0m\u001b[0;34m\u001b[0m\u001b[0m\n",
      "\u001b[0;32m~/Library/Python/3.9/lib/python/site-packages/sklearn/svm/_base.py\u001b[0m in \u001b[0;36mpredict\u001b[0;34m(self, X)\u001b[0m\n\u001b[1;32m    622\u001b[0m             \u001b[0my\u001b[0m \u001b[0;34m=\u001b[0m \u001b[0mnp\u001b[0m\u001b[0;34m.\u001b[0m\u001b[0margmax\u001b[0m\u001b[0;34m(\u001b[0m\u001b[0mself\u001b[0m\u001b[0;34m.\u001b[0m\u001b[0mdecision_function\u001b[0m\u001b[0;34m(\u001b[0m\u001b[0mX\u001b[0m\u001b[0;34m)\u001b[0m\u001b[0;34m,\u001b[0m \u001b[0maxis\u001b[0m\u001b[0;34m=\u001b[0m\u001b[0;36m1\u001b[0m\u001b[0;34m)\u001b[0m\u001b[0;34m\u001b[0m\u001b[0;34m\u001b[0m\u001b[0m\n\u001b[1;32m    623\u001b[0m         \u001b[0;32melse\u001b[0m\u001b[0;34m:\u001b[0m\u001b[0;34m\u001b[0m\u001b[0;34m\u001b[0m\u001b[0m\n\u001b[0;32m--> 624\u001b[0;31m             \u001b[0my\u001b[0m \u001b[0;34m=\u001b[0m \u001b[0msuper\u001b[0m\u001b[0;34m(\u001b[0m\u001b[0;34m)\u001b[0m\u001b[0;34m.\u001b[0m\u001b[0mpredict\u001b[0m\u001b[0;34m(\u001b[0m\u001b[0mX\u001b[0m\u001b[0;34m)\u001b[0m\u001b[0;34m\u001b[0m\u001b[0;34m\u001b[0m\u001b[0m\n\u001b[0m\u001b[1;32m    625\u001b[0m         \u001b[0;32mreturn\u001b[0m \u001b[0mself\u001b[0m\u001b[0;34m.\u001b[0m\u001b[0mclasses_\u001b[0m\u001b[0;34m.\u001b[0m\u001b[0mtake\u001b[0m\u001b[0;34m(\u001b[0m\u001b[0mnp\u001b[0m\u001b[0;34m.\u001b[0m\u001b[0masarray\u001b[0m\u001b[0;34m(\u001b[0m\u001b[0my\u001b[0m\u001b[0;34m,\u001b[0m \u001b[0mdtype\u001b[0m\u001b[0;34m=\u001b[0m\u001b[0mnp\u001b[0m\u001b[0;34m.\u001b[0m\u001b[0mintp\u001b[0m\u001b[0;34m)\u001b[0m\u001b[0;34m)\u001b[0m\u001b[0;34m\u001b[0m\u001b[0;34m\u001b[0m\u001b[0m\n\u001b[1;32m    626\u001b[0m \u001b[0;34m\u001b[0m\u001b[0m\n",
      "\u001b[0;32m~/Library/Python/3.9/lib/python/site-packages/sklearn/svm/_base.py\u001b[0m in \u001b[0;36mpredict\u001b[0;34m(self, X)\u001b[0m\n\u001b[1;32m    342\u001b[0m         \u001b[0mX\u001b[0m \u001b[0;34m=\u001b[0m \u001b[0mself\u001b[0m\u001b[0;34m.\u001b[0m\u001b[0m_validate_for_predict\u001b[0m\u001b[0;34m(\u001b[0m\u001b[0mX\u001b[0m\u001b[0;34m)\u001b[0m\u001b[0;34m\u001b[0m\u001b[0;34m\u001b[0m\u001b[0m\n\u001b[1;32m    343\u001b[0m         \u001b[0mpredict\u001b[0m \u001b[0;34m=\u001b[0m \u001b[0mself\u001b[0m\u001b[0;34m.\u001b[0m\u001b[0m_sparse_predict\u001b[0m \u001b[0;32mif\u001b[0m \u001b[0mself\u001b[0m\u001b[0;34m.\u001b[0m\u001b[0m_sparse\u001b[0m \u001b[0;32melse\u001b[0m \u001b[0mself\u001b[0m\u001b[0;34m.\u001b[0m\u001b[0m_dense_predict\u001b[0m\u001b[0;34m\u001b[0m\u001b[0;34m\u001b[0m\u001b[0m\n\u001b[0;32m--> 344\u001b[0;31m         \u001b[0;32mreturn\u001b[0m \u001b[0mpredict\u001b[0m\u001b[0;34m(\u001b[0m\u001b[0mX\u001b[0m\u001b[0;34m)\u001b[0m\u001b[0;34m\u001b[0m\u001b[0;34m\u001b[0m\u001b[0m\n\u001b[0m\u001b[1;32m    345\u001b[0m \u001b[0;34m\u001b[0m\u001b[0m\n\u001b[1;32m    346\u001b[0m     \u001b[0;32mdef\u001b[0m \u001b[0m_dense_predict\u001b[0m\u001b[0;34m(\u001b[0m\u001b[0mself\u001b[0m\u001b[0;34m,\u001b[0m \u001b[0mX\u001b[0m\u001b[0;34m)\u001b[0m\u001b[0;34m:\u001b[0m\u001b[0;34m\u001b[0m\u001b[0;34m\u001b[0m\u001b[0m\n",
      "\u001b[0;32m~/Library/Python/3.9/lib/python/site-packages/sklearn/svm/_base.py\u001b[0m in \u001b[0;36m_dense_predict\u001b[0;34m(self, X)\u001b[0m\n\u001b[1;32m    359\u001b[0m         \u001b[0msvm_type\u001b[0m \u001b[0;34m=\u001b[0m \u001b[0mLIBSVM_IMPL\u001b[0m\u001b[0;34m.\u001b[0m\u001b[0mindex\u001b[0m\u001b[0;34m(\u001b[0m\u001b[0mself\u001b[0m\u001b[0;34m.\u001b[0m\u001b[0m_impl\u001b[0m\u001b[0;34m)\u001b[0m\u001b[0;34m\u001b[0m\u001b[0;34m\u001b[0m\u001b[0m\n\u001b[1;32m    360\u001b[0m \u001b[0;34m\u001b[0m\u001b[0m\n\u001b[0;32m--> 361\u001b[0;31m         return libsvm.predict(\n\u001b[0m\u001b[1;32m    362\u001b[0m             \u001b[0mX\u001b[0m\u001b[0;34m,\u001b[0m \u001b[0mself\u001b[0m\u001b[0;34m.\u001b[0m\u001b[0msupport_\u001b[0m\u001b[0;34m,\u001b[0m \u001b[0mself\u001b[0m\u001b[0;34m.\u001b[0m\u001b[0msupport_vectors_\u001b[0m\u001b[0;34m,\u001b[0m \u001b[0mself\u001b[0m\u001b[0;34m.\u001b[0m\u001b[0m_n_support\u001b[0m\u001b[0;34m,\u001b[0m\u001b[0;34m\u001b[0m\u001b[0;34m\u001b[0m\u001b[0m\n\u001b[1;32m    363\u001b[0m             \u001b[0mself\u001b[0m\u001b[0;34m.\u001b[0m\u001b[0m_dual_coef_\u001b[0m\u001b[0;34m,\u001b[0m \u001b[0mself\u001b[0m\u001b[0;34m.\u001b[0m\u001b[0m_intercept_\u001b[0m\u001b[0;34m,\u001b[0m\u001b[0;34m\u001b[0m\u001b[0;34m\u001b[0m\u001b[0m\n",
      "\u001b[0;31mKeyboardInterrupt\u001b[0m: "
     ]
    }
   ],
   "source": [
    "test_accuracy = []\n",
    "train_accuracy = []\n",
    "for i in train_sizes:\n",
    "    if i > 1: \n",
    "        train_data_subset = train.head(i)\n",
    "        classifier  = make_pipeline(StandardScaler(), SVC(gamma='auto'))\n",
    "        classifier.fit(train_data_subset[cols], train_data_subset[target])\n",
    "        #print(accuracy_score(train_data_subset[target], classifier.predict(train_data_subset[cols])))\n",
    "        train_accuracy.append(accuracy_score(train_data_subset[target], classifier.predict(train_data_subset[cols])))\n",
    "        test_accuracy.append(accuracy_score(test[target], classifier.predict(test[cols])))\n",
    "\n",
    "    \n",
    "plt.plot(train_sizes, train_accuracy, '--', color=\"b\",  label=\"Training score\")\n",
    "plt.plot(train_sizes, test_accuracy, color=\"g\", label=\"Test Accuracy\")"
   ]
  },
  {
   "cell_type": "markdown",
   "id": "2f5e7dc9",
   "metadata": {},
   "source": [
    "## K Nearest Neighbors\n",
    "https://scikit-learn.org/stable/modules/generated/sklearn.neighbors.KNeighborsClassifier.html\n"
   ]
  },
  {
   "cell_type": "code",
   "execution_count": 69,
   "id": "a5b6329c",
   "metadata": {},
   "outputs": [],
   "source": [
    "start_time = time.time()\n",
    "\n",
    "neigh = KNeighborsClassifier(n_neighbors=3)\n",
    "neigh.fit(train[cols], train[target])\n",
    "neigh_runtime = time.time() - start_time \n",
    "\n",
    "neigh_training_error = 1 - accuracy_score(train[target], neigh.predict(train[cols]))\n",
    "neigh_error = 1 - accuracy_score(test[target], neigh.predict(test[cols]))\n",
    "\n",
    "neigh_row = pd.DataFrame(['K Nearest Neighbor', neigh_training_error, neigh_error, neigh_runtime]).T "
   ]
  },
  {
   "cell_type": "code",
   "execution_count": 70,
   "id": "6d41d117",
   "metadata": {},
   "outputs": [
    {
     "ename": "ValueError",
     "evalue": "Expected n_neighbors <= n_samples,  but n_samples = 1, n_neighbors = 3",
     "output_type": "error",
     "traceback": [
      "\u001b[0;31m---------------------------------------------------------------------------\u001b[0m",
      "\u001b[0;31mValueError\u001b[0m                                Traceback (most recent call last)",
      "\u001b[0;32m/var/folders/p9/lr4kfdlj1ngdv2v65vk5l1d80000gn/T/ipykernel_88269/3895837141.py\u001b[0m in \u001b[0;36m<module>\u001b[0;34m\u001b[0m\n\u001b[1;32m      6\u001b[0m     \u001b[0mclassifier\u001b[0m\u001b[0;34m.\u001b[0m\u001b[0mfit\u001b[0m\u001b[0;34m(\u001b[0m\u001b[0mtrain_data_subset\u001b[0m\u001b[0;34m[\u001b[0m\u001b[0mcols\u001b[0m\u001b[0;34m]\u001b[0m\u001b[0;34m,\u001b[0m \u001b[0mtrain_data_subset\u001b[0m\u001b[0;34m[\u001b[0m\u001b[0mtarget\u001b[0m\u001b[0;34m]\u001b[0m\u001b[0;34m)\u001b[0m\u001b[0;34m\u001b[0m\u001b[0;34m\u001b[0m\u001b[0m\n\u001b[1;32m      7\u001b[0m     \u001b[0;31m#print(accuracy_score(train_data_subset[target], classifier.predict(train_data_subset[cols])))\u001b[0m\u001b[0;34m\u001b[0m\u001b[0;34m\u001b[0m\u001b[0;34m\u001b[0m\u001b[0m\n\u001b[0;32m----> 8\u001b[0;31m     \u001b[0mtrain_accuracy\u001b[0m\u001b[0;34m.\u001b[0m\u001b[0mappend\u001b[0m\u001b[0;34m(\u001b[0m\u001b[0maccuracy_score\u001b[0m\u001b[0;34m(\u001b[0m\u001b[0mtrain_data_subset\u001b[0m\u001b[0;34m[\u001b[0m\u001b[0mtarget\u001b[0m\u001b[0;34m]\u001b[0m\u001b[0;34m,\u001b[0m \u001b[0mclassifier\u001b[0m\u001b[0;34m.\u001b[0m\u001b[0mpredict\u001b[0m\u001b[0;34m(\u001b[0m\u001b[0mtrain_data_subset\u001b[0m\u001b[0;34m[\u001b[0m\u001b[0mcols\u001b[0m\u001b[0;34m]\u001b[0m\u001b[0;34m)\u001b[0m\u001b[0;34m)\u001b[0m\u001b[0;34m)\u001b[0m\u001b[0;34m\u001b[0m\u001b[0;34m\u001b[0m\u001b[0m\n\u001b[0m\u001b[1;32m      9\u001b[0m     \u001b[0mtest_accuracy\u001b[0m\u001b[0;34m.\u001b[0m\u001b[0mappend\u001b[0m\u001b[0;34m(\u001b[0m\u001b[0maccuracy_score\u001b[0m\u001b[0;34m(\u001b[0m\u001b[0mtest\u001b[0m\u001b[0;34m[\u001b[0m\u001b[0mtarget\u001b[0m\u001b[0;34m]\u001b[0m\u001b[0;34m,\u001b[0m \u001b[0mclassifier\u001b[0m\u001b[0;34m.\u001b[0m\u001b[0mpredict\u001b[0m\u001b[0;34m(\u001b[0m\u001b[0mtest\u001b[0m\u001b[0;34m[\u001b[0m\u001b[0mcols\u001b[0m\u001b[0;34m]\u001b[0m\u001b[0;34m)\u001b[0m\u001b[0;34m)\u001b[0m\u001b[0;34m)\u001b[0m\u001b[0;34m\u001b[0m\u001b[0;34m\u001b[0m\u001b[0m\n\u001b[1;32m     10\u001b[0m \u001b[0;34m\u001b[0m\u001b[0m\n",
      "\u001b[0;32m~/Library/Python/3.9/lib/python/site-packages/sklearn/neighbors/_classification.py\u001b[0m in \u001b[0;36mpredict\u001b[0;34m(self, X)\u001b[0m\n\u001b[1;32m    195\u001b[0m         \u001b[0mX\u001b[0m \u001b[0;34m=\u001b[0m \u001b[0mcheck_array\u001b[0m\u001b[0;34m(\u001b[0m\u001b[0mX\u001b[0m\u001b[0;34m,\u001b[0m \u001b[0maccept_sparse\u001b[0m\u001b[0;34m=\u001b[0m\u001b[0;34m'csr'\u001b[0m\u001b[0;34m)\u001b[0m\u001b[0;34m\u001b[0m\u001b[0;34m\u001b[0m\u001b[0m\n\u001b[1;32m    196\u001b[0m \u001b[0;34m\u001b[0m\u001b[0m\n\u001b[0;32m--> 197\u001b[0;31m         \u001b[0mneigh_dist\u001b[0m\u001b[0;34m,\u001b[0m \u001b[0mneigh_ind\u001b[0m \u001b[0;34m=\u001b[0m \u001b[0mself\u001b[0m\u001b[0;34m.\u001b[0m\u001b[0mkneighbors\u001b[0m\u001b[0;34m(\u001b[0m\u001b[0mX\u001b[0m\u001b[0;34m)\u001b[0m\u001b[0;34m\u001b[0m\u001b[0;34m\u001b[0m\u001b[0m\n\u001b[0m\u001b[1;32m    198\u001b[0m         \u001b[0mclasses_\u001b[0m \u001b[0;34m=\u001b[0m \u001b[0mself\u001b[0m\u001b[0;34m.\u001b[0m\u001b[0mclasses_\u001b[0m\u001b[0;34m\u001b[0m\u001b[0;34m\u001b[0m\u001b[0m\n\u001b[1;32m    199\u001b[0m         \u001b[0m_y\u001b[0m \u001b[0;34m=\u001b[0m \u001b[0mself\u001b[0m\u001b[0;34m.\u001b[0m\u001b[0m_y\u001b[0m\u001b[0;34m\u001b[0m\u001b[0;34m\u001b[0m\u001b[0m\n",
      "\u001b[0;32m~/Library/Python/3.9/lib/python/site-packages/sklearn/neighbors/_base.py\u001b[0m in \u001b[0;36mkneighbors\u001b[0;34m(self, X, n_neighbors, return_distance)\u001b[0m\n\u001b[1;32m    678\u001b[0m         \u001b[0mn_samples_fit\u001b[0m \u001b[0;34m=\u001b[0m \u001b[0mself\u001b[0m\u001b[0;34m.\u001b[0m\u001b[0mn_samples_fit_\u001b[0m\u001b[0;34m\u001b[0m\u001b[0;34m\u001b[0m\u001b[0m\n\u001b[1;32m    679\u001b[0m         \u001b[0;32mif\u001b[0m \u001b[0mn_neighbors\u001b[0m \u001b[0;34m>\u001b[0m \u001b[0mn_samples_fit\u001b[0m\u001b[0;34m:\u001b[0m\u001b[0;34m\u001b[0m\u001b[0;34m\u001b[0m\u001b[0m\n\u001b[0;32m--> 680\u001b[0;31m             raise ValueError(\n\u001b[0m\u001b[1;32m    681\u001b[0m                 \u001b[0;34m\"Expected n_neighbors <= n_samples, \"\u001b[0m\u001b[0;34m\u001b[0m\u001b[0;34m\u001b[0m\u001b[0m\n\u001b[1;32m    682\u001b[0m                 \u001b[0;34m\" but n_samples = %d, n_neighbors = %d\"\u001b[0m \u001b[0;34m%\u001b[0m\u001b[0;34m\u001b[0m\u001b[0;34m\u001b[0m\u001b[0m\n",
      "\u001b[0;31mValueError\u001b[0m: Expected n_neighbors <= n_samples,  but n_samples = 1, n_neighbors = 3"
     ]
    }
   ],
   "source": [
    "test_accuracy = []\n",
    "train_accuracy = []\n",
    "for i in train_sizes:\n",
    "    train_data_subset = train.head(i)\n",
    "    classifier  = KNeighborsClassifier(n_neighbors=3)\n",
    "    classifier.fit(train_data_subset[cols], train_data_subset[target])\n",
    "    #print(accuracy_score(train_data_subset[target], classifier.predict(train_data_subset[cols])))\n",
    "    train_accuracy.append(accuracy_score(train_data_subset[target], classifier.predict(train_data_subset[cols])))\n",
    "    test_accuracy.append(accuracy_score(test[target], classifier.predict(test[cols])))\n",
    "\n",
    "    \n",
    "plt.plot(train_sizes, train_accuracy, '--', color=\"b\",  label=\"Training score\")\n",
    "plt.plot(train_sizes, test_accuracy, color=\"g\", label=\"Test Accuracy\")"
   ]
  },
  {
   "cell_type": "markdown",
   "id": "cca33444",
   "metadata": {},
   "source": [
    "## Comp table\n",
    "\n",
    "- Classifier Name \n",
    "- Training Error \n",
    "- Testing Error\n",
    "- Training Time\n"
   ]
  },
  {
   "cell_type": "code",
   "execution_count": 22,
   "id": "e87f0419",
   "metadata": {},
   "outputs": [],
   "source": [
    "final_df = neigh_row.append(clf_row).append(ada_row).append(nn_row).append(final_tree_row)\n",
    "final_df.columns = ['Classifier Name', 'Training Error', 'Testing Error', 'Training Time']"
   ]
  },
  {
   "cell_type": "code",
   "execution_count": 23,
   "id": "b991822a",
   "metadata": {},
   "outputs": [
    {
     "data": {
      "text/html": [
       "<div>\n",
       "<style scoped>\n",
       "    .dataframe tbody tr th:only-of-type {\n",
       "        vertical-align: middle;\n",
       "    }\n",
       "\n",
       "    .dataframe tbody tr th {\n",
       "        vertical-align: top;\n",
       "    }\n",
       "\n",
       "    .dataframe thead th {\n",
       "        text-align: right;\n",
       "    }\n",
       "</style>\n",
       "<table border=\"1\" class=\"dataframe\">\n",
       "  <thead>\n",
       "    <tr style=\"text-align: right;\">\n",
       "      <th></th>\n",
       "      <th>Classifier Name</th>\n",
       "      <th>Training Error</th>\n",
       "      <th>Testing Error</th>\n",
       "      <th>Training Time</th>\n",
       "    </tr>\n",
       "  </thead>\n",
       "  <tbody>\n",
       "    <tr>\n",
       "      <th>0</th>\n",
       "      <td>K Nearest Neighbor</td>\n",
       "      <td>0.075331</td>\n",
       "      <td>0.130492</td>\n",
       "      <td>0.004465</td>\n",
       "    </tr>\n",
       "    <tr>\n",
       "      <th>0</th>\n",
       "      <td>Support Vector Machine</td>\n",
       "      <td>0.089993</td>\n",
       "      <td>0.103657</td>\n",
       "      <td>13.632392</td>\n",
       "    </tr>\n",
       "    <tr>\n",
       "      <th>0</th>\n",
       "      <td>Ada Boost</td>\n",
       "      <td>0.098461</td>\n",
       "      <td>0.103362</td>\n",
       "      <td>1.780285</td>\n",
       "    </tr>\n",
       "    <tr>\n",
       "      <th>0</th>\n",
       "      <td>Neural Network</td>\n",
       "      <td>0.116125</td>\n",
       "      <td>0.118991</td>\n",
       "      <td>0.127549</td>\n",
       "    </tr>\n",
       "    <tr>\n",
       "      <th>0</th>\n",
       "      <td>Decision Tree</td>\n",
       "      <td>0.116125</td>\n",
       "      <td>0.118991</td>\n",
       "      <td>0.177204</td>\n",
       "    </tr>\n",
       "  </tbody>\n",
       "</table>\n",
       "</div>"
      ],
      "text/plain": [
       "          Classifier Name Training Error Testing Error Training Time\n",
       "0      K Nearest Neighbor       0.075331      0.130492      0.004465\n",
       "0  Support Vector Machine       0.089993      0.103657     13.632392\n",
       "0               Ada Boost       0.098461      0.103362      1.780285\n",
       "0          Neural Network       0.116125      0.118991      0.127549\n",
       "0           Decision Tree       0.116125      0.118991      0.177204"
      ]
     },
     "execution_count": 23,
     "metadata": {},
     "output_type": "execute_result"
    }
   ],
   "source": [
    "final_df"
   ]
  },
  {
   "cell_type": "markdown",
   "id": "c4c607d6",
   "metadata": {},
   "source": [
    "# Second Dataset   \n",
    "\n",
    "https://www.kaggle.com/arashnic/hr-analytics-job-change-of-data-scientists?select=aug_train.csv"
   ]
  },
  {
   "cell_type": "markdown",
   "id": "6ffb9cc4",
   "metadata": {},
   "source": [
    "## Prep Data for Modeling "
   ]
  },
  {
   "cell_type": "code",
   "execution_count": 24,
   "id": "e06300d6",
   "metadata": {},
   "outputs": [
    {
     "data": {
      "text/plain": [
       "Index(['enrollee_id', 'city', 'city_development_index', 'gender',\n",
       "       'relevent_experience', 'enrolled_university', 'education_level',\n",
       "       'major_discipline', 'experience', 'company_size', 'company_type',\n",
       "       'last_new_job', 'training_hours', 'target'],\n",
       "      dtype='object')"
      ]
     },
     "execution_count": 24,
     "metadata": {},
     "output_type": "execute_result"
    }
   ],
   "source": [
    "hr_data.columns"
   ]
  },
  {
   "cell_type": "code",
   "execution_count": 25,
   "id": "5852275e",
   "metadata": {},
   "outputs": [],
   "source": [
    "categorical_cols = ['city', 'gender',\n",
    "       'relevent_experience', 'enrolled_university', 'education_level',\n",
    "       'major_discipline', 'experience', 'company_size', 'company_type',\n",
    "       'last_new_job']\n",
    "\n",
    "for i in categorical_cols: \n",
    "    le = preprocessing.LabelEncoder()\n",
    "    le.fit(hr_data[i].unique())\n",
    "    hr_data[i] = le.transform(hr_data[i])\n",
    "\n"
   ]
  },
  {
   "cell_type": "code",
   "execution_count": 26,
   "id": "14410f56",
   "metadata": {},
   "outputs": [],
   "source": [
    "target = 'target'\n",
    "cols = ['city', 'city_development_index', 'gender',\n",
    "       'relevent_experience', 'enrolled_university', 'education_level',\n",
    "       'major_discipline', 'experience', 'company_size', 'company_type',\n",
    "       'last_new_job', 'training_hours']\n",
    "\n",
    "#splitn into training and testing data sets\n",
    "train, test = train_test_split(hr_data, test_size=0.3)"
   ]
  },
  {
   "cell_type": "markdown",
   "id": "38af5f70",
   "metadata": {},
   "source": [
    "## Decision Tree with Pruning "
   ]
  },
  {
   "cell_type": "code",
   "execution_count": 27,
   "id": "2b388322",
   "metadata": {},
   "outputs": [],
   "source": [
    "decision_tree = DecisionTreeClassifier(random_state=0)\n",
    "path = decision_tree.cost_complexity_pruning_path(train[cols], train[target])\n",
    "alphas, impurities = path.ccp_alphas, path.impurities\n",
    "accuracy_train, accuracy_test = [], []\n",
    "max_score = 0 \n",
    "max_score_alpha = 0\n",
    "\n",
    "for i in alphas:\n",
    "    \n",
    "    tree = DecisionTreeClassifier(ccp_alpha = i)\n",
    "    \n",
    "    tree.fit(train[cols], train[target])\n",
    "    y_train_pred = tree.predict(train[cols])\n",
    "    y_test_pred = tree.predict(test[cols])\n",
    "    \n",
    "    accuracy_train.append(accuracy_score(train[target], y_train_pred))\n",
    "    accuracy_test.append(accuracy_score(test[target], y_test_pred))\n",
    "    \n",
    "    #use the alpha that has the max score on the test set\n",
    "    max_score_alpha = i if max_score < accuracy_score(test[target], y_test_pred) else max_score_alpha  \n",
    "    max_score = max_score if max_score < accuracy_score(test[target], y_test_pred) else max_score  \n"
   ]
  },
  {
   "cell_type": "code",
   "execution_count": 28,
   "id": "9c484f14",
   "metadata": {},
   "outputs": [
    {
     "data": {
      "text/plain": [
       "<AxesSubplot:>"
      ]
     },
     "execution_count": 28,
     "metadata": {},
     "output_type": "execute_result"
    },
    {
     "data": {
      "image/png": "[encoded data removed]",
      "text/plain": [
       "<Figure size 1008x504 with 1 Axes>"
      ]
     },
     "metadata": {},
     "output_type": "display_data"
    }
   ],
   "source": [
    "sns.set()\n",
    "plt.figure(figsize=(14,7))\n",
    "sns.lineplot(y = accuracy_train, x = alphas, label = \"Train Accuracy\")\n",
    "sns.lineplot(y = accuracy_test, x = alphas, label = \"Test Accuracy\")"
   ]
  },
  {
   "cell_type": "code",
   "execution_count": 29,
   "id": "9d29a0bf",
   "metadata": {},
   "outputs": [],
   "source": [
    "start_time = time.time()\n",
    "final_tree = DecisionTreeClassifier(random_state=0, ccp_alpha=max_score_alpha)\n",
    "final_tree.fit(train[cols], train[target])\n",
    "final_tree_runtime = time.time() - start_time\n",
    "final_tree_training_error = 1 - accuracy_score(train[target], final_tree.predict(train[cols]))\n",
    "final_tree_error = 1 - accuracy_score(test[target], final_tree.predict(test[cols]))\n",
    "\n",
    "final_tree_row = pd.DataFrame(['Decision Tree', final_tree_training_error, final_tree_error, final_tree_runtime] ).T"
   ]
  },
  {
   "cell_type": "code",
   "execution_count": null,
   "id": "3516e6a1",
   "metadata": {},
   "outputs": [],
   "source": [
    "test_accuracy = []\n",
    "train_accuracy = []\n",
    "for i in train_sizes:\n",
    "    train_data_subset = train.head(i)\n",
    "    classifier  = DecisionTreeClassifier(random_state=0, ccp_alpha=max_score_alpha)\n",
    "    classifier.fit(train_data_subset[cols], train_data_subset[target])\n",
    "    #print(accuracy_score(train_data_subset[target], classifier.predict(train_data_subset[cols])))\n",
    "    train_accuracy.append(accuracy_score(train_data_subset[target], classifier.predict(train_data_subset[cols])))\n",
    "    test_accuracy.append(accuracy_score(test[target], classifier.predict(test[cols])))\n",
    "\n",
    "    \n",
    "plt.plot(train_sizes, train_accuracy, '--', color=\"b\",  label=\"Training score\")\n",
    "plt.plot(train_sizes, test_accuracy, color=\"g\", label=\"Test Accuracy\")"
   ]
  },
  {
   "cell_type": "markdown",
   "id": "f8e72dbc",
   "metadata": {},
   "source": [
    "## Neural Network"
   ]
  },
  {
   "cell_type": "code",
   "execution_count": 30,
   "id": "c35dfe11",
   "metadata": {},
   "outputs": [
    {
     "name": "stderr",
     "output_type": "stream",
     "text": [
      "/Users/nicole/Library/Python/3.9/lib/python/site-packages/sklearn/neural_network/_multilayer_perceptron.py:500: ConvergenceWarning: lbfgs failed to converge (status=1):\n",
      "STOP: TOTAL NO. of ITERATIONS REACHED LIMIT.\n",
      "\n",
      "Increase the number of iterations (max_iter) or scale the data as shown in:\n",
      "    https://scikit-learn.org/stable/modules/preprocessing.html\n",
      "  self.n_iter_ = _check_optimize_result(\"lbfgs\", opt_res, self.max_iter)\n"
     ]
    }
   ],
   "source": [
    "start_time = time.time()\n",
    "nn = MLPClassifier(solver='lbfgs', alpha=1e-5,\n",
    "                    hidden_layer_sizes=(5, 2), random_state=1)\n",
    "\n",
    "nn.fit(train[cols], train[target])\n",
    "nn_runtime = time.time() - start_time \n",
    "\n",
    "nn_training_error = 1 - accuracy_score(train[target], nn.predict(train[cols]))\n",
    "nn_error = 1 - accuracy_score(test[target], nn.predict(test[cols]))\n",
    "\n",
    "nn_row = pd.DataFrame(['Neural Network', nn_training_error, nn_error, nn_runtime] ).T"
   ]
  },
  {
   "cell_type": "markdown",
   "id": "dc6d0ba4",
   "metadata": {},
   "source": [
    "## Boosting "
   ]
  },
  {
   "cell_type": "code",
   "execution_count": 31,
   "id": "ba379aea",
   "metadata": {},
   "outputs": [],
   "source": [
    "start_time = time.time()\n",
    "\n",
    "ada = AdaBoostClassifier(n_estimators=100, random_state=0)\n",
    "ada.fit(train[cols], train[target])\n",
    "ada_runtime = time.time() - start_time \n",
    "\n",
    "ada_training_error = 1 - accuracy_score(train[target], ada.predict(train[cols]))\n",
    "ada_error = 1 - accuracy_score(test[target], ada.predict(test[cols]))\n",
    "\n",
    "ada_row = pd.DataFrame(['Ada Boost', ada_training_error, ada_error, ada_runtime] ).T"
   ]
  },
  {
   "cell_type": "code",
   "execution_count": null,
   "id": "d2f5dd6b",
   "metadata": {},
   "outputs": [],
   "source": [
    "test_accuracy = []\n",
    "train_accuracy = []\n",
    "for i in train_sizes:\n",
    "    train_data_subset = train.head(i)\n",
    "    classifier  = AdaBoostClassifier(n_estimators=100, random_state=0)\n",
    "    classifier.fit(train_data_subset[cols], train_data_subset[target])\n",
    "    #print(accuracy_score(train_data_subset[target], classifier.predict(train_data_subset[cols])))\n",
    "    train_accuracy.append(accuracy_score(train_data_subset[target], classifier.predict(train_data_subset[cols])))\n",
    "    test_accuracy.append(accuracy_score(test[target], classifier.predict(test[cols])))\n",
    "\n",
    "    \n",
    "plt.plot(train_sizes, train_accuracy, '--', color=\"b\",  label=\"Training score\")\n",
    "plt.plot(train_sizes, test_accuracy, color=\"g\", label=\"Test Accuracy\")"
   ]
  },
  {
   "cell_type": "markdown",
   "id": "440fae7b",
   "metadata": {},
   "source": [
    "## Support Vector Machines "
   ]
  },
  {
   "cell_type": "code",
   "execution_count": 32,
   "id": "210cc095",
   "metadata": {},
   "outputs": [],
   "source": [
    "start_time = time.time()\n",
    "\n",
    "clf = make_pipeline(StandardScaler(), SVC(gamma='auto'))\n",
    "clf.fit(train[cols], train[target])\n",
    "clf_runtime = time.time() - start_time \n",
    "\n",
    "clf_training_error = 1 - accuracy_score(train[target], clf.predict(train[cols]))\n",
    "clf_error = 1 - accuracy_score(test[target], clf.predict(test[cols]))\n",
    "\n",
    "clf_row = pd.DataFrame(['Support Vector Machine', clf_training_error, clf_error, clf_runtime] ).T"
   ]
  },
  {
   "cell_type": "code",
   "execution_count": null,
   "id": "683702e8",
   "metadata": {},
   "outputs": [],
   "source": [
    "test_accuracy = []\n",
    "train_accuracy = []\n",
    "for i in train_sizes:\n",
    "    if i > 1: \n",
    "        train_data_subset = train.head(i)\n",
    "        classifier  = make_pipeline(StandardScaler(), SVC(gamma='auto'))\n",
    "        classifier.fit(train_data_subset[cols], train_data_subset[target])\n",
    "        #print(accuracy_score(train_data_subset[target], classifier.predict(train_data_subset[cols])))\n",
    "        train_accuracy.append(accuracy_score(train_data_subset[target], classifier.predict(train_data_subset[cols])))\n",
    "        test_accuracy.append(accuracy_score(test[target], classifier.predict(test[cols])))\n",
    "\n",
    "    \n",
    "plt.plot(train_sizes, train_accuracy, '--', color=\"b\",  label=\"Training score\")\n",
    "plt.plot(train_sizes, test_accuracy, color=\"g\", label=\"Test Accuracy\")"
   ]
  },
  {
   "cell_type": "markdown",
   "id": "cfc0d873",
   "metadata": {},
   "source": [
    "## K Nearest Neighbors"
   ]
  },
  {
   "cell_type": "code",
   "execution_count": 33,
   "id": "ce7f8a24",
   "metadata": {},
   "outputs": [],
   "source": [
    "start_time = time.time()\n",
    "\n",
    "neigh = KNeighborsClassifier(n_neighbors=3)\n",
    "neigh.fit(train[cols], train[target])\n",
    "neigh_runtime = time.time() - start_time \n",
    "\n",
    "neigh_training_error = 1 - accuracy_score(train[target], neigh.predict(train[cols]))\n",
    "neigh_error = 1 - accuracy_score(test[target], neigh.predict(test[cols]))\n",
    "\n",
    "neigh_row = pd.DataFrame(['K Nearest Neighbor', neigh_training_error, neigh_error, neigh_runtime]).T "
   ]
  },
  {
   "cell_type": "code",
   "execution_count": 35,
   "id": "a6e7cd65",
   "metadata": {},
   "outputs": [
    {
     "data": {
      "image/png": "[encoded data removed]",
      "text/plain": [
       "<Figure size 432x288 with 1 Axes>"
      ]
     },
     "metadata": {},
     "output_type": "display_data"
    }
   ],
   "source": [
    "test_accuracy = []\n",
    "train_accuracy = []\n",
    "for i in train_sizes:\n",
    "    train_data_subset = train.head(i)\n",
    "    classifier  = KNeighborsClassifier(n_neighbors=3)\n",
    "    classifier.fit(train_data_subset[cols], train_data_subset[target])\n",
    "    #print(accuracy_score(train_data_subset[target], classifier.predict(train_data_subset[cols])))\n",
    "    train_accuracy.append(accuracy_score(train_data_subset[target], classifier.predict(train_data_subset[cols])))\n",
    "    test_accuracy.append(accuracy_score(test[target], classifier.predict(test[cols])))\n",
    "\n",
    "    \n",
    "plt.plot(train_sizes, train_accuracy, '--', color=\"b\",  label=\"Training score\")\n",
    "plt.plot(train_sizes, test_accuracy, color=\"g\", label=\"Test Accuracy\")"
   ]
  },
  {
   "cell_type": "markdown",
   "id": "2810340c",
   "metadata": {},
   "source": [
    "## Comp table\n",
    "\n",
    "- Classifier Name \n",
    "- Training Error \n",
    "- Testing Error\n",
    "- Training Time\n"
   ]
  },
  {
   "cell_type": "code",
   "execution_count": 117,
   "id": "3eeb2845",
   "metadata": {},
   "outputs": [],
   "source": [
    "final_df = neigh_row.append(clf_row).append(ada_row).append(nn_row).append(final_tree_row)\n",
    "final_df.columns = ['Classifier Name', 'Training Error', 'Testing Error', 'Training Time']"
   ]
  },
  {
   "cell_type": "code",
   "execution_count": 118,
   "id": "d4a4903b",
   "metadata": {},
   "outputs": [
    {
     "data": {
      "text/html": [
       "<div>\n",
       "<style scoped>\n",
       "    .dataframe tbody tr th:only-of-type {\n",
       "        vertical-align: middle;\n",
       "    }\n",
       "\n",
       "    .dataframe tbody tr th {\n",
       "        vertical-align: top;\n",
       "    }\n",
       "\n",
       "    .dataframe thead th {\n",
       "        text-align: right;\n",
       "    }\n",
       "</style>\n",
       "<table border=\"1\" class=\"dataframe\">\n",
       "  <thead>\n",
       "    <tr style=\"text-align: right;\">\n",
       "      <th></th>\n",
       "      <th>Classifier Name</th>\n",
       "      <th>Training Error</th>\n",
       "      <th>Testing Error</th>\n",
       "      <th>Training Time</th>\n",
       "    </tr>\n",
       "  </thead>\n",
       "  <tbody>\n",
       "    <tr>\n",
       "      <th>0</th>\n",
       "      <td>K Nearest Neighbor</td>\n",
       "      <td>0.149068</td>\n",
       "      <td>0.262526</td>\n",
       "      <td>0.015888</td>\n",
       "    </tr>\n",
       "    <tr>\n",
       "      <th>0</th>\n",
       "      <td>Support Vector Machine</td>\n",
       "      <td>0.200373</td>\n",
       "      <td>0.209116</td>\n",
       "      <td>5.183503</td>\n",
       "    </tr>\n",
       "    <tr>\n",
       "      <th>0</th>\n",
       "      <td>Ada Boost</td>\n",
       "      <td>0.2217</td>\n",
       "      <td>0.214857</td>\n",
       "      <td>0.575004</td>\n",
       "    </tr>\n",
       "    <tr>\n",
       "      <th>0</th>\n",
       "      <td>Neural Network</td>\n",
       "      <td>0.251678</td>\n",
       "      <td>0.243911</td>\n",
       "      <td>0.592031</td>\n",
       "    </tr>\n",
       "    <tr>\n",
       "      <th>0</th>\n",
       "      <td>Decision Tree</td>\n",
       "      <td>0.251678</td>\n",
       "      <td>0.243911</td>\n",
       "      <td>0.057659</td>\n",
       "    </tr>\n",
       "  </tbody>\n",
       "</table>\n",
       "</div>"
      ],
      "text/plain": [
       "          Classifier Name Training Error Testing Error Training Time\n",
       "0      K Nearest Neighbor       0.149068      0.262526      0.015888\n",
       "0  Support Vector Machine       0.200373      0.209116      5.183503\n",
       "0               Ada Boost         0.2217      0.214857      0.575004\n",
       "0          Neural Network       0.251678      0.243911      0.592031\n",
       "0           Decision Tree       0.251678      0.243911      0.057659"
      ]
     },
     "execution_count": 118,
     "metadata": {},
     "output_type": "execute_result"
    }
   ],
   "source": [
    "final_df"
   ]
  },
  {
   "cell_type": "code",
   "execution_count": null,
   "id": "e479e443",
   "metadata": {},
   "outputs": [],
   "source": []
  }
 ],
 "metadata": {
  "kernelspec": {
   "display_name": "Python 3 (ipykernel)",
   "language": "python",
   "name": "python3"
  },
  "language_info": {
   "codemirror_mode": {
    "name": "ipython",
    "version": 3
   },
   "file_extension": ".py",
   "mimetype": "text/x-python",
   "name": "python",
   "nbconvert_exporter": "python",
   "pygments_lexer": "ipython3",
   "version": "3.9.6"
  }
 },
 "nbformat": 4,
 "nbformat_minor": 5
}
